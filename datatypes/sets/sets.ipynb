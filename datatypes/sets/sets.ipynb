{
 "cells": [
  {
   "cell_type": "code",
   "execution_count": 1,
   "metadata": {},
   "outputs": [
    {
     "name": "stdout",
     "output_type": "stream",
     "text": [
      "True\n",
      "apple\n",
      "mango\n",
      "orange\n",
      "{1, 2, 3, 4}\n",
      "{2, 3}\n",
      "{1}\n"
     ]
    }
   ],
   "source": [
    "\"\"\"\n",
    "SETS\n",
    "\n",
    "Key characteristics of sets in Python are:\n",
    "uniqueness: sets cannot contain duplicate elements.\n",
    "unordered: the elements in a set have no specific order.\n",
    "mutable: sets are mutable, which means you can add or remove elements from a set after it is created.\n",
    "\"\"\"\n",
    "\n",
    "# Creating a set\n",
    "fruits = {\"apple\", \"banana\", \"orange\"}\n",
    "\n",
    "# Adding elements to a set\n",
    "fruits.add(\"mango\")\n",
    "\n",
    "# Removing an element from a set\n",
    "fruits.remove(\"banana\")\n",
    "\n",
    "# Checking if an element is in a set\n",
    "print(\"apple\" in fruits)  # Output: True\n",
    "\n",
    "# Iterating over a set\n",
    "for fruit in fruits:\n",
    "    print(fruit)\n",
    "\n",
    "# Performing set operations\n",
    "set1 = {1, 2, 3}\n",
    "set2 = {2, 3, 4}\n",
    "\n",
    "union = set1.union(set2)  # Union of two sets\n",
    "intersection = set1.intersection(set2)  # Intersection of two sets\n",
    "difference = set1.difference(set2)  # Difference between two sets\n",
    "\n",
    "print(union)  # Output: {1, 2, 3, 4}\n",
    "print(intersection)  # Output: {2, 3}\n",
    "print(difference)  # Output: {1}\n"
   ]
  }
 ],
 "metadata": {
  "kernelspec": {
   "display_name": "venv",
   "language": "python",
   "name": "python3"
  },
  "language_info": {
   "codemirror_mode": {
    "name": "ipython",
    "version": 3
   },
   "file_extension": ".py",
   "mimetype": "text/x-python",
   "name": "python",
   "nbconvert_exporter": "python",
   "pygments_lexer": "ipython3",
   "version": "3.11.2"
  },
  "orig_nbformat": 4,
  "vscode": {
   "interpreter": {
    "hash": "5aa9d9cfaefd52d9eee0e4decc26aff1d3ddaa6ecc236e5a9a4e808ebd9cabf2"
   }
  }
 },
 "nbformat": 4,
 "nbformat_minor": 2
}
