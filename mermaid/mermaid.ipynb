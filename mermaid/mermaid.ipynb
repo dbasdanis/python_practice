{
 "cells": [
  {
   "attachments": {},
   "cell_type": "markdown",
   "metadata": {},
   "source": [
    "# Mermaid library"
   ]
  },
  {
   "cell_type": "code",
   "execution_count": 13,
   "metadata": {},
   "outputs": [],
   "source": [
    "from BPTK_Py import bptk\n",
    "\n",
    "bptk = bptk()"
   ]
  },
  {
   "cell_type": "code",
   "execution_count": 14,
   "metadata": {},
   "outputs": [],
   "source": [
    "import base64\n",
    "from IPython.display import Image, display\n",
    "import matplotlib.pyplot as plt"
   ]
  },
  {
   "cell_type": "code",
   "execution_count": 15,
   "metadata": {},
   "outputs": [
    {
     "data": {
      "text/html": [
       "<img src=\"https://mermaid.ink/img/CmZsb3djaGFydCBUQgogICAgYzEtLT5hMgogICAgc3ViZ3JhcGggb25lCiAgICBhMS0tPmEyCiAgICBlbmQKICAgIHN1YmdyYXBoIHR3bwogICAgYjEtLT5iMgogICAgZW5kCiAgICBzdWJncmFwaCB0aHJlZQogICAgYzEtLT5jMgogICAgZW5kCgo=\"/>"
      ],
      "text/plain": [
       "<IPython.core.display.Image object>"
      ]
     },
     "metadata": {},
     "output_type": "display_data"
    }
   ],
   "source": [
    "def mm(graph):\n",
    "    graphbytes = graph.encode(\"ascii\")\n",
    "    base64_bytes = base64.b64encode(graphbytes)\n",
    "    base64_string = base64_bytes.decode(\"ascii\")\n",
    "    display(Image(url=\"https://mermaid.ink/img/\" + base64_string))\n",
    "\n",
    "mm(\"\"\"\n",
    "flowchart TB\n",
    "    c1-->a2\n",
    "    subgraph one\n",
    "    a1-->a2\n",
    "    end\n",
    "    subgraph two\n",
    "    b1-->b2\n",
    "    end\n",
    "    subgraph three\n",
    "    c1-->c2\n",
    "    end\n",
    "\n",
    "\"\"\")"
   ]
  },
  {
   "attachments": {},
   "cell_type": "markdown",
   "metadata": {},
   "source": [
    "# System Dynamics Tutorial"
   ]
  },
  {
   "cell_type": "code",
   "execution_count": 16,
   "metadata": {},
   "outputs": [],
   "source": [
    "from BPTK_Py import Model\n",
    "from BPTK_Py import sd_functions as sd"
   ]
  },
  {
   "cell_type": "code",
   "execution_count": 17,
   "metadata": {},
   "outputs": [],
   "source": [
    "model = Model(starttime=1.0,stoptime=10.0,dt=1.0,name='Population')"
   ]
  },
  {
   "attachments": {},
   "cell_type": "markdown",
   "metadata": {},
   "source": [
    "# Stocks"
   ]
  },
  {
   "cell_type": "code",
   "execution_count": 18,
   "metadata": {},
   "outputs": [
    {
     "name": "stdout",
     "output_type": "stream",
     "text": [
      "\n"
     ]
    },
    {
     "data": {
      "text/html": [
       "<img src=\"https://mermaid.ink/img/Zmxvd2NoYXJ0IExSCmNsYXNzRGVmIGNvbnZlcnRlciBmaWxsOm5vbmUsc3Ryb2tlOm5vbmUsc3Ryb2tlLXdpZHRoOjBweDsKY2xhc3NEZWYgY29uc3RhbnQgZmlsbDpub25lLHN0cm9rZTpub25lLHN0cm9rZS13aWR0aDowcHg7CnBvcHVsYXRpb25bcG9wdWxhdGlvbl0=\"/>"
      ],
      "text/plain": [
       "<IPython.core.display.Image object>"
      ]
     },
     "metadata": {},
     "output_type": "display_data"
    }
   ],
   "source": [
    "population = model.stock(\"population\")\n",
    "population.initial_value = 80000000.0\n",
    "model.plot_diagram()"
   ]
  },
  {
   "attachments": {},
   "cell_type": "markdown",
   "metadata": {},
   "source": [
    "# Flows"
   ]
  },
  {
   "cell_type": "code",
   "execution_count": 19,
   "metadata": {},
   "outputs": [
    {
     "name": "stdout",
     "output_type": "stream",
     "text": [
      "\n"
     ]
    },
    {
     "data": {
      "text/html": [
       "<img src=\"https://mermaid.ink/img/Zmxvd2NoYXJ0IExSCmNsYXNzRGVmIGNvbnZlcnRlciBmaWxsOm5vbmUsc3Ryb2tlOm5vbmUsc3Ryb2tlLXdpZHRoOjBweDsKY2xhc3NEZWYgY29uc3RhbnQgZmlsbDpub25lLHN0cm9rZTpub25lLHN0cm9rZS13aWR0aDowcHg7CnBvcHVsYXRpb25bcG9wdWxhdGlvbl0KYmlydGhzKChiaXJ0aHMpKQpkZWF0aHMoKGRlYXRocykp\"/>"
      ],
      "text/plain": [
       "<IPython.core.display.Image object>"
      ]
     },
     "metadata": {},
     "output_type": "display_data"
    }
   ],
   "source": [
    "births = model.flow(\"births\")\n",
    "deaths = model.flow(\"deaths\")\n",
    "births.equation = 1000000.0\n",
    "deaths.equation = 2000000.0\n",
    "model.plot_diagram()"
   ]
  },
  {
   "cell_type": "code",
   "execution_count": 20,
   "metadata": {},
   "outputs": [],
   "source": [
    "population.equation = births - deaths"
   ]
  },
  {
   "attachments": {},
   "cell_type": "markdown",
   "metadata": {},
   "source": [
    "# Converters"
   ]
  },
  {
   "cell_type": "code",
   "execution_count": 21,
   "metadata": {},
   "outputs": [
    {
     "name": "stdout",
     "output_type": "stream",
     "text": [
      "lambda model, t : ( (80000000.0) if (t <= model.starttime) else (model.memoize('population',t-model.dt))+ model.dt*(model.memoize('births',t-model.dt)-model.memoize('deaths',t-model.dt)) )\n"
     ]
    },
    {
     "data": {
      "text/html": [
       "<img src=\"https://mermaid.ink/img/Zmxvd2NoYXJ0IExSCmNsYXNzRGVmIGNvbnZlcnRlciBmaWxsOm5vbmUsc3Ryb2tlOm5vbmUsc3Ryb2tlLXdpZHRoOjBweDsKY2xhc3NEZWYgY29uc3RhbnQgZmlsbDpub25lLHN0cm9rZTpub25lLHN0cm9rZS13aWR0aDowcHg7CnBvcHVsYXRpb25bcG9wdWxhdGlvbl0KYmlydGhzKChiaXJ0aHMpKQpkZWF0aHMoKGRlYXRocykpCmJpcnRoUmF0ZVtiaXJ0aFJhdGVdOjo6Y29udmVydGVyCmRlYXRoUmF0ZVtkZWF0aFJhdGVdOjo6Y29udmVydGVyCmZvb2RBdmFpbGFibGVQZXJQZXJzb25bZm9vZEF2YWlsYWJsZVBlclBlcnNvbl06Ojpjb252ZXJ0ZXIKZm9vZEF2YWlsYWJsZVtmb29kQXZhaWxhYmxlXTo6OmNvbnN0YW50\"/>"
      ],
      "text/plain": [
       "<IPython.core.display.Image object>"
      ]
     },
     "metadata": {},
     "output_type": "display_data"
    }
   ],
   "source": [
    "birthRate = model.converter(\"birthRate\")\n",
    "deathRate = model.converter(\"deathRate\")\n",
    "foodAvailablePerPerson = model.converter(\"foodAvailablePerPerson\")\n",
    "foodAvailable = model.constant(\"foodAvailable\")\n",
    "model.plot_diagram()"
   ]
  },
  {
   "attachments": {},
   "cell_type": "markdown",
   "metadata": {},
   "source": [
    "# Connectors"
   ]
  },
  {
   "cell_type": "code",
   "execution_count": 22,
   "metadata": {},
   "outputs": [],
   "source": [
    "foodAvailable.equation = 80000000.0\n",
    "foodAvailablePerPerson.equation = foodAvailable / population\n",
    "birthRate.equation = 0.01 * foodAvailablePerPerson\n",
    "births.equation = birthRate * population"
   ]
  },
  {
   "cell_type": "code",
   "execution_count": 23,
   "metadata": {},
   "outputs": [],
   "source": [
    "model.points[\"deathRate\"] = [\n",
    "    [0.0,1.0],\n",
    "    [0.1,0.670320046036],\n",
    "    [0.2,0.449328964117],\n",
    "    [0.3,0.301194211912],\n",
    "    [0.4,0.201896517995],\n",
    "    [0.5,0.135335283237],\n",
    "    [0.6,0.0907179532894],\n",
    "    [0.7,0.0608100626252],\n",
    "    [0.8,0.0407622039784],\n",
    "    [0.9,0.025],\n",
    "    [1.0,0.01]\n",
    "]\n",
    "\n",
    "deaths.equation = deathRate * population"
   ]
  },
  {
   "cell_type": "code",
   "execution_count": 24,
   "metadata": {},
   "outputs": [
    {
     "name": "stdout",
     "output_type": "stream",
     "text": [
      "lambda model, t : ( (80000000.0) if (t <= model.starttime) else (model.memoize('population',t-model.dt))+ model.dt*(model.memoize('births',t-model.dt)-model.memoize('deaths',t-model.dt)) )\n"
     ]
    },
    {
     "data": {
      "text/html": [
       "<img src=\"https://mermaid.ink/img/Zmxvd2NoYXJ0IExSCmNsYXNzRGVmIGNvbnZlcnRlciBmaWxsOm5vbmUsc3Ryb2tlOm5vbmUsc3Ryb2tlLXdpZHRoOjBweDsKY2xhc3NEZWYgY29uc3RhbnQgZmlsbDpub25lLHN0cm9rZTpub25lLHN0cm9rZS13aWR0aDowcHg7CnBvcHVsYXRpb25bcG9wdWxhdGlvbl0KYmlydGhzKChiaXJ0aHMpKQpkZWF0aHMoKGRlYXRocykpCmJpcnRoUmF0ZVtiaXJ0aFJhdGVdOjo6Y29udmVydGVyCmRlYXRoUmF0ZVtkZWF0aFJhdGVdOjo6Y29udmVydGVyCmZvb2RBdmFpbGFibGVQZXJQZXJzb25bZm9vZEF2YWlsYWJsZVBlclBlcnNvbl06Ojpjb252ZXJ0ZXIKZm9vZEF2YWlsYWJsZVtmb29kQXZhaWxhYmxlXTo6OmNvbnN0YW50\"/>"
      ],
      "text/plain": [
       "<IPython.core.display.Image object>"
      ]
     },
     "metadata": {},
     "output_type": "display_data"
    }
   ],
   "source": [
    "model.plot_diagram()"
   ]
  }
 ],
 "metadata": {
  "kernelspec": {
   "display_name": "venv",
   "language": "python",
   "name": "python3"
  },
  "language_info": {
   "codemirror_mode": {
    "name": "ipython",
    "version": 3
   },
   "file_extension": ".py",
   "mimetype": "text/x-python",
   "name": "python",
   "nbconvert_exporter": "python",
   "pygments_lexer": "ipython3",
   "version": "3.11.2"
  },
  "orig_nbformat": 4,
  "vscode": {
   "interpreter": {
    "hash": "5aa9d9cfaefd52d9eee0e4decc26aff1d3ddaa6ecc236e5a9a4e808ebd9cabf2"
   }
  }
 },
 "nbformat": 4,
 "nbformat_minor": 2
}
