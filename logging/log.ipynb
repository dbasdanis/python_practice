{
 "cells": [
  {
   "cell_type": "code",
   "execution_count": 4,
   "metadata": {},
   "outputs": [
    {
     "name": "stderr",
     "output_type": "stream",
     "text": [
      "WARNING:root:This is a simple Python logging example\n"
     ]
    }
   ],
   "source": [
    "import logging\n",
    "\n",
    "logging.warning(\"This is a simple Python logging example\")"
   ]
  },
  {
   "attachments": {},
   "cell_type": "markdown",
   "metadata": {},
   "source": [
    "### Python - Logging Messages to Log Files\n",
    "\n",
    "Using Python Logging module, you can log debug lines, information, warnings, errors and critical errors to a log file instead of echoing to the console."
   ]
  },
  {
   "cell_type": "code",
   "execution_count": 5,
   "metadata": {},
   "outputs": [
    {
     "name": "stderr",
     "output_type": "stream",
     "text": [
      "WARNING:root:This is a WARNING message\n",
      "ERROR:root:This is an ERROR message\n",
      "CRITICAL:root:This is a CRITICAL message\n"
     ]
    }
   ],
   "source": [
    "import logging\n",
    "\n",
    "#setup logging basic configuration for logging to a file\n",
    "logging.basicConfig(filename=\"mylog.log\")\n",
    "\n",
    "logging.warning('This is a WARNING message')\n",
    "logging.error('This is an ERROR message')\n",
    "logging.critical('This is a CRITICAL message')"
   ]
  },
  {
   "cell_type": "code",
   "execution_count": 7,
   "metadata": {},
   "outputs": [
    {
     "name": "stderr",
     "output_type": "stream",
     "text": [
      "WARNING:mylogger:This is a WARNING message\n",
      "ERROR:mylogger:This is an ERROR message\n",
      "CRITICAL:mylogger:This is a CRITICAL message\n"
     ]
    }
   ],
   "source": [
    "import logging\n",
    "\n",
    "logger = logging.getLogger('mylogger')\n",
    "handler = logging.FileHandler('mylog.log')\n",
    "logger.addHandler(handler)\n",
    "\n",
    "logger.warning('This is a WARNING message')\n",
    "logger.error('This is an ERROR message')\n",
    "logger.critical('This is a CRITICAL message')"
   ]
  },
  {
   "attachments": {},
   "cell_type": "markdown",
   "metadata": {},
   "source": [
    "### Python Logging - DEBUG Level\n",
    "\n",
    "The order of logging levels is:\n",
    "DEBUG < INFO < WARNING < ERROR < CRITICAL"
   ]
  },
  {
   "cell_type": "code",
   "execution_count": 10,
   "metadata": {},
   "outputs": [
    {
     "name": "stderr",
     "output_type": "stream",
     "text": [
      "DEBUG:mylogger:This is a DEBUG mesage\n"
     ]
    }
   ],
   "source": [
    "import logging\n",
    "\n",
    "# create a logger\n",
    "logger = logging.getLogger('mylogger')\n",
    "# set logging level \n",
    "logger.setLevel(logging.DEBUG)\n",
    "\n",
    "handler = logging.FileHandler('mylog.log')\n",
    "# create a logging format\n",
    "formatter = logging.Formatter('%(asctime)s - %(name)s - %(levelname)s - %(message)s')\n",
    "handler.setFormatter(formatter)\n",
    "logger.addHandler(handler)\n",
    "\n",
    "# write a debug message\n",
    "logger.debug('This is a DEBUG mesage')"
   ]
  }
 ],
 "metadata": {
  "kernelspec": {
   "display_name": "venv",
   "language": "python",
   "name": "python3"
  },
  "language_info": {
   "codemirror_mode": {
    "name": "ipython",
    "version": 3
   },
   "file_extension": ".py",
   "mimetype": "text/x-python",
   "name": "python",
   "nbconvert_exporter": "python",
   "pygments_lexer": "ipython3",
   "version": "3.11.2"
  },
  "orig_nbformat": 4,
  "vscode": {
   "interpreter": {
    "hash": "5aa9d9cfaefd52d9eee0e4decc26aff1d3ddaa6ecc236e5a9a4e808ebd9cabf2"
   }
  }
 },
 "nbformat": 4,
 "nbformat_minor": 2
}
