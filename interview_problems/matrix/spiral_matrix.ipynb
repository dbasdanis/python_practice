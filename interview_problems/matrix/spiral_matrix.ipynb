{
 "cells": [
  {
   "attachments": {},
   "cell_type": "markdown",
   "metadata": {},
   "source": [
    "# Spiral Matrix (Medium)"
   ]
  },
  {
   "attachments": {},
   "cell_type": "markdown",
   "metadata": {},
   "source": [
    "Given an m x n matrix, return all elements of the matrix in spiral order.\n",
    "\n",
    "Example 1:\n",
    "\n",
    "![Spiral1](spiral1.jpeg)\n",
    "\n",
    "Input: matrix = [[1,2,3],[4,5,6],[7,8,9]]\n",
    "Output: [1,2,3,6,9,8,7,4,5]\n",
    "\n",
    "Example 2:\n",
    "\n",
    "![Spiral2](spiral2.jpeg)\n",
    "\n",
    "Input: matrix = [[1,2,3,4],[5,6,7,8],[9,10,11,12]]\n",
    "Output: [1,2,3,4,8,12,11,10,9,5,6,7]"
   ]
  },
  {
   "cell_type": "code",
   "execution_count": 12,
   "metadata": {},
   "outputs": [
    {
     "name": "stdout",
     "output_type": "stream",
     "text": [
      "[1, 2, 3, 4, 8, 12, 11, 10, 9, 5, 6, 7]\n"
     ]
    }
   ],
   "source": [
    "from typing import List\n",
    "\n",
    "class Solution:\n",
    "    def spiralOrder(self, matrix: List[List[int]]) -> List[int]:\n",
    "        if not matrix:\n",
    "            return []\n",
    "        \n",
    "        row_start = 0\n",
    "        row_end = len(matrix) - 1\n",
    "        col_start = 0\n",
    "        col_end = len(matrix[0]) -1\n",
    "        result = []\n",
    "\n",
    "        while row_start <= row_end and col_start <= col_end:\n",
    "            # top row\n",
    "            for col in range(col_start, col_end + 1):\n",
    "                result.append(matrix[row_start][col])\n",
    "            row_start += 1\n",
    "\n",
    "            # right column\n",
    "            for row in range(row_start, row_end + 1):\n",
    "                result.append(matrix[row][col_end])\n",
    "            col_end -= 1\n",
    "\n",
    "            # check remaining boundaries\n",
    "            if row_start <= row_end and col_start <= col_end:\n",
    "                # bottom row\n",
    "                for col in range(col_end, col_start-1, -1):\n",
    "                    result.append(matrix[row_end][col])\n",
    "                row_end -= 1\n",
    "\n",
    "                # left column\n",
    "                for row in range(row_end, row_start -1, -1):\n",
    "                    result.append(matrix[row][col_start])\n",
    "                col_start += 1\n",
    "\n",
    "        return result\n",
    "\n",
    "\n",
    "solution = Solution()\n",
    "matrix = [[1,2,3,4],[5,6,7,8],[9,10,11,12]]\n",
    "result = solution.spiralOrder(matrix)\n",
    "print(result)"
   ]
  }
 ],
 "metadata": {
  "kernelspec": {
   "display_name": "venv",
   "language": "python",
   "name": "python3"
  },
  "language_info": {
   "codemirror_mode": {
    "name": "ipython",
    "version": 3
   },
   "file_extension": ".py",
   "mimetype": "text/x-python",
   "name": "python",
   "nbconvert_exporter": "python",
   "pygments_lexer": "ipython3",
   "version": "3.11.2"
  },
  "orig_nbformat": 4,
  "vscode": {
   "interpreter": {
    "hash": "5aa9d9cfaefd52d9eee0e4decc26aff1d3ddaa6ecc236e5a9a4e808ebd9cabf2"
   }
  }
 },
 "nbformat": 4,
 "nbformat_minor": 2
}
