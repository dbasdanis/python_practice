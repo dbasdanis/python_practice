{
 "cells": [
  {
   "attachments": {},
   "cell_type": "markdown",
   "metadata": {},
   "source": [
    "# Rotate Image (medium)"
   ]
  },
  {
   "attachments": {},
   "cell_type": "markdown",
   "metadata": {},
   "source": [
    "You are given an n x n 2D matrix representing an image, rotate the image by 90 degrees (clockwise).\n",
    "\n",
    "You have to rotate the image in-place, which means you have to modify the input 2D matrix directly. DO NOT allocate another 2D matrix and do the rotation.\n",
    "\n",
    "Example 1:\n",
    "\n",
    "<img src=\"mat1.jpeg\" alt=\"matrix1\" width=\"250\" height=\"100\">\n",
    "\n",
    "Input: matrix = [[1,2,3],[4,5,6],[7,8,9]]\n",
    "Output: [[7,4,1],[8,5,2],[9,6,3]]\n",
    "\n",
    "\n",
    "Example 2:\n",
    "\n",
    "<img src=\"mat2.jpeg\" alt=\"matrix2\" width=\"250\" height=\"100\">\n",
    "\n",
    "Input: matrix = [[5,1,9,11],[2,4,8,10],[13,3,6,7],[15,14,12,16]]\n",
    "Output: [[15,13,2,5],[14,3,4,1],[12,6,8,9],[16,7,10,11]]"
   ]
  },
  {
   "cell_type": "code",
   "execution_count": 8,
   "metadata": {},
   "outputs": [
    {
     "name": "stdout",
     "output_type": "stream",
     "text": [
      "[[7, 4, 1], [8, 5, 2], [9, 6, 3]]\n"
     ]
    }
   ],
   "source": [
    "from typing import List\n",
    "\n",
    "class Solution:\n",
    "    def rotate(self, matrix: List[List[int]]) -> None:\n",
    "        n = len(matrix)\n",
    "\n",
    "        # Transpose the matrix\n",
    "        for i in range(n):\n",
    "            for j in range(i, n):\n",
    "                matrix[i][j], matrix[j][i] = matrix[j][i], matrix[i][j]\n",
    "\n",
    "        # Reverse each row\n",
    "        for i in range(n):\n",
    "            matrix[i].reverse()\n",
    "\n",
    "        return matrix\n",
    "\n",
    "solution = Solution()\n",
    "matrix = [[1,2,3],[4,5,6],[7,8,9]]\n",
    "result = solution.rotate(matrix)\n",
    "print(result)"
   ]
  },
  {
   "attachments": {},
   "cell_type": "markdown",
   "metadata": {},
   "source": [
    "### NOTE\n",
    "\n",
    "The difference between the two loops is in how the matrix elements are swapped during the transposition step.\n",
    "\n",
    "In the first loop:\n",
    "```python\n",
    "for i in range(n):\n",
    "    for j in range(i, n):\n",
    "        matrix[i][j], matrix[j][i] = matrix[j][i], matrix[i][j]\n",
    "```\n",
    "The elements `matrix[i][j]` and `matrix[j][i]` are swapped using tuple packing and unpacking. This is a concise way to perform the swap in Python. It allows swapping the values of two variables without using an intermediate variable.\n",
    "\n",
    "In the second loop:\n",
    "```python\n",
    "for i in range(n):\n",
    "    for j in range(i, n):\n",
    "        matrix[i][j] = matrix[j][i]\n",
    "        matrix[j][i] = matrix[i][j]\n",
    "```\n",
    "The elements are swapped using separate assignments. First, the value of `matrix[j][i]` is assigned to `matrix[i][j]`, and then the value of `matrix[i][j]` is assigned back to `matrix[j][i]`. This approach also results in swapping the values of the two elements, but it requires two separate assignments.\n",
    "\n",
    "Both approaches achieve the same result of transposing the matrix, but the first loop with tuple packing and unpacking is more concise and commonly used in Python."
   ]
  }
 ],
 "metadata": {
  "kernelspec": {
   "display_name": "venv",
   "language": "python",
   "name": "python3"
  },
  "language_info": {
   "codemirror_mode": {
    "name": "ipython",
    "version": 3
   },
   "file_extension": ".py",
   "mimetype": "text/x-python",
   "name": "python",
   "nbconvert_exporter": "python",
   "pygments_lexer": "ipython3",
   "version": "3.11.2"
  },
  "orig_nbformat": 4,
  "vscode": {
   "interpreter": {
    "hash": "5aa9d9cfaefd52d9eee0e4decc26aff1d3ddaa6ecc236e5a9a4e808ebd9cabf2"
   }
  }
 },
 "nbformat": 4,
 "nbformat_minor": 2
}
