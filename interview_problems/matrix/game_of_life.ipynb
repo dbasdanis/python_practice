{
 "cells": [
  {
   "attachments": {},
   "cell_type": "markdown",
   "metadata": {},
   "source": [
    "# Game of Life (medium)"
   ]
  },
  {
   "attachments": {},
   "cell_type": "markdown",
   "metadata": {},
   "source": [
    "According to Wikipedia's article: \"The Game of Life, also known simply as Life, is a cellular automaton devised by the British mathematician John Horton Conway in 1970.\"\n",
    "\n",
    "The board is made up of an m x n grid of cells, where each cell has an initial state: live (represented by a 1) or dead (represented by a 0). Each cell interacts with its eight neighbors (horizontal, vertical, diagonal) using the following four rules (taken from the above Wikipedia article):\n",
    "\n",
    "Any live cell with fewer than two live neighbors dies as if caused by under-population.\n",
    "Any live cell with two or three live neighbors lives on to the next generation.\n",
    "Any live cell with more than three live neighbors dies, as if by over-population.\n",
    "Any dead cell with exactly three live neighbors becomes a live cell, as if by reproduction.\n",
    "The next state is created by applying the above rules simultaneously to every cell in the current state, where births and deaths occur simultaneously. Given the current state of the m x n grid board, return the next state.\n",
    "\n",
    "Example 1:\n",
    "\n",
    "<img src = 'grid1.jpeg' alt = 'grid1' width = 200 height = 100>\n",
    "\n",
    "```python\n",
    "Input: board = [[0,1,0],[0,0,1],[1,1,1],[0,0,0]]\n",
    "Output: [[0,0,0],[1,0,1],[0,1,1],[0,1,0]]\n",
    "```\n",
    "Example 2:\n",
    "\n",
    "<img src = 'grid2.jpeg' alt = 'grid2' width = 200 height = 100>\n",
    "\n",
    "```python\n",
    "Input: board = [[1,1],[1,0]]\n",
    "Output: [[1,1],[1,1]]\n",
    "```"
   ]
  },
  {
   "cell_type": "code",
   "execution_count": null,
   "metadata": {},
   "outputs": [],
   "source": [
    "from typing import List\n",
    "class Solution:\n",
    "    def gameOfLife(self, board: List[List[int]]) -> None:\n",
    "        rows = len(board)\n",
    "        cols = len(board[0])\n",
    "\n",
    "        # create a copy of the board\n",
    "        next_board = [[0]*cols for _ in range(rows)]\n",
    "        \n",
    "        # define the eight directions for neighbors\n",
    "        directions = [(0,1),(0,-1),(1,0),(-1,0),(1,1),(1,-1),(-1,-1),(-1,-1)]\n",
    "\n",
    "        # helper function to count live neighbors\n",
    "        def countLiveNeighbors(row,col):\n",
    "            live_count = 0\n",
    "            for dr,dc in directions:\n",
    "                new_row = row + dr\n",
    "                new_col = col + dc\n",
    "                if 0 <= new_row < rows and 0 <= new_col < cols and board[new_row][new_col] == 1:\n",
    "                    live_count += 1\n",
    "            return live_count\n",
    "        \n",
    "        # iterate through each cell in the original board\n",
    "        for i in range(rows):\n",
    "            for j in range(cols):\n",
    "                live_neighbors = countLiveNeighbors(i,j)\n",
    "                cell_state = board[i][j]\n",
    "\n",
    "                # apply the rules of the Game of Life\n",
    "                if cell_state == 1 and (live_neighbors < 2 or live_neighbors > 3):\n",
    "                    next_board[i][j] = 0\n",
    "                elif cell_state == 0 and live_neighbors == 3:\n",
    "                    next_board[i][j] = 1\n",
    "                else:\n",
    "                    next_board[i][j] = cell_state\n",
    "        \n",
    "        # update the original board with the next state\n",
    "        for i in range(rows):\n",
    "            for j in range(cols):\n",
    "                board[i][j] = next_board[i][j]\n",
    "\n",
    "        return board\n",
    "\n",
    "solution = Solution()\n",
    "board = [[0,1,0],[0,0,1],[1,1,1],[0,0,0]]\n",
    "result = solution.gameOfLife(board)\n",
    "print(result)"
   ]
  }
 ],
 "metadata": {
  "language_info": {
   "name": "python"
  },
  "orig_nbformat": 4
 },
 "nbformat": 4,
 "nbformat_minor": 2
}
