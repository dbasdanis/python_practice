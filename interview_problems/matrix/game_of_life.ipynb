{
 "cells": [
  {
   "attachments": {},
   "cell_type": "markdown",
   "metadata": {},
   "source": [
    "# Game of Life (medium)"
   ]
  },
  {
   "attachments": {},
   "cell_type": "markdown",
   "metadata": {},
   "source": [
    "According to Wikipedia's article: \"The Game of Life, also known simply as Life, is a cellular automaton devised by the British mathematician John Horton Conway in 1970.\"\n",
    "\n",
    "The board is made up of an m x n grid of cells, where each cell has an initial state: live (represented by a 1) or dead (represented by a 0). Each cell interacts with its eight neighbors (horizontal, vertical, diagonal) using the following four rules (taken from the above Wikipedia article):\n",
    "\n",
    "Any live cell with fewer than two live neighbors dies as if caused by under-population.\n",
    "Any live cell with two or three live neighbors lives on to the next generation.\n",
    "Any live cell with more than three live neighbors dies, as if by over-population.\n",
    "Any dead cell with exactly three live neighbors becomes a live cell, as if by reproduction.\n",
    "The next state is created by applying the above rules simultaneously to every cell in the current state, where births and deaths occur simultaneously. Given the current state of the m x n grid board, return the next state.\n",
    "\n",
    "Example 1:\n",
    "\n",
    "<img src = 'grid1.jpeg' alt = 'grid1' width = 200 height = 100>\n",
    "\n",
    "```python\n",
    "Input: board = [[0,1,0],[0,0,1],[1,1,1],[0,0,0]]\n",
    "Output: [[0,0,0],[1,0,1],[0,1,1],[0,1,0]]\n",
    "```\n",
    "Example 2:\n",
    "\n",
    "<img src = 'grid2.jpeg' alt = 'grid2' width = 200 height = 100>\n",
    "\n",
    "```python\n",
    "Input: board = [[1,1],[1,0]]\n",
    "Output: [[1,1],[1,1]]\n",
    "```"
   ]
  }
 ],
 "metadata": {
  "language_info": {
   "name": "python"
  },
  "orig_nbformat": 4
 },
 "nbformat": 4,
 "nbformat_minor": 2
}
