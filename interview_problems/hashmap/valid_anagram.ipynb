{
 "cells": [
  {
   "attachments": {},
   "cell_type": "markdown",
   "metadata": {},
   "source": [
    "# Valid Anagram (easy)"
   ]
  },
  {
   "attachments": {},
   "cell_type": "markdown",
   "metadata": {},
   "source": [
    "Given two strings s and t, return true if t is an anagram of s, and false otherwise.\n",
    "\n",
    "An Anagram is a word or phrase formed by rearranging the letters of a different word or phrase, typically using all the original letters exactly once.\n",
    "\n",
    "```python\n",
    "Example 1:\n",
    "\n",
    "Input: s = \"anagram\", t = \"nagaram\"\n",
    "Output: true\n",
    "\n",
    "Example 2:\n",
    "\n",
    "Input: s = \"rat\", t = \"car\"\n",
    "Output: false"
   ]
  },
  {
   "cell_type": "code",
   "execution_count": 5,
   "metadata": {},
   "outputs": [
    {
     "name": "stdout",
     "output_type": "stream",
     "text": [
      "True\n"
     ]
    }
   ],
   "source": [
    "class Solution:\n",
    "    def isAnagram(self, s: str, t: str) -> bool:\n",
    "        s_chars = {}\n",
    "        t_chars = {}\n",
    "\n",
    "        if len(s) != len(t):\n",
    "            return False\n",
    "\n",
    "        for ch_s, ch_t in zip(s,t):\n",
    "            if ch_s not in s_chars:\n",
    "                s_chars[ch_s] = 1\n",
    "            else:\n",
    "                s_chars[ch_s] += 1\n",
    "\n",
    "            if ch_t not in t_chars:\n",
    "                t_chars[ch_t] = 1 \n",
    "            else:\n",
    "                t_chars[ch_t] += 1\n",
    "\n",
    "        if s_chars == t_chars:\n",
    "            return True\n",
    "        \n",
    "        return False\n",
    "\n",
    "solution = Solution()\n",
    "s = \"anagram\"\n",
    "t = \"nagaram\"\n",
    "result = solution.isAnagram(s, t)\n",
    "print(result)"
   ]
  },
  {
   "cell_type": "code",
   "execution_count": 6,
   "metadata": {},
   "outputs": [
    {
     "name": "stdout",
     "output_type": "stream",
     "text": [
      "True\n"
     ]
    }
   ],
   "source": [
    "class Solution:\n",
    "    def isAnagram(self, s: str, t: str) -> bool:\n",
    "        sorted_s = sorted(s)\n",
    "        sorted_t = sorted(t)\n",
    "\n",
    "        return sorted_s == sorted_t\n",
    "\n",
    "solution = Solution()\n",
    "s = \"anagram\"\n",
    "t = \"nagaram\"\n",
    "result = solution.isAnagram(s, t)\n",
    "print(result)"
   ]
  }
 ],
 "metadata": {
  "kernelspec": {
   "display_name": "venv",
   "language": "python",
   "name": "python3"
  },
  "language_info": {
   "codemirror_mode": {
    "name": "ipython",
    "version": 3
   },
   "file_extension": ".py",
   "mimetype": "text/x-python",
   "name": "python",
   "nbconvert_exporter": "python",
   "pygments_lexer": "ipython3",
   "version": "3.11.2"
  },
  "orig_nbformat": 4,
  "vscode": {
   "interpreter": {
    "hash": "5aa9d9cfaefd52d9eee0e4decc26aff1d3ddaa6ecc236e5a9a4e808ebd9cabf2"
   }
  }
 },
 "nbformat": 4,
 "nbformat_minor": 2
}
