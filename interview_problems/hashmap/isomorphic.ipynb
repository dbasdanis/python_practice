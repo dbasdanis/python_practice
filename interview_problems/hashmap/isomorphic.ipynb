{
 "cells": [
  {
   "attachments": {},
   "cell_type": "markdown",
   "metadata": {},
   "source": [
    "# Isomorphic Strings (easy)"
   ]
  },
  {
   "attachments": {},
   "cell_type": "markdown",
   "metadata": {},
   "source": [
    "Given two strings s and t, determine if they are isomorphic.\n",
    "\n",
    "Two strings s and t are isomorphic if the characters in s can be replaced to get t.\n",
    "\n",
    "All occurrences of a character must be replaced with another character while preserving the order of characters. No two characters may map to the same character, but a character may map to itself.\n",
    "\n",
    "Example 1:\n",
    "\n",
    "Input: s = \"egg\", t = \"add\"\n",
    "Output: true\n",
    "\n",
    "Example 2:\n",
    "\n",
    "Input: s = \"foo\", t = \"bar\"\n",
    "Output: false\n",
    "\n",
    "Example 3:\n",
    "\n",
    "Input: s = \"paper\", t = \"title\"\n",
    "Output: true"
   ]
  },
  {
   "cell_type": "code",
   "execution_count": null,
   "metadata": {},
   "outputs": [],
   "source": [
    "class Solution:\n",
    "    def isIsomorphic(self, s: str, t: str) -> bool:\n",
    "        if len(s) != len(t):\n",
    "            return False\n",
    "        \n",
    "        s_to_t = {}\n",
    "        t_to_s = {}\n",
    "\n",
    "        for char_s, char_t in zip(s,t):\n",
    "            if char_s not in s_to_t and char_t not in t_to_s:\n",
    "                s_to_t[char_s] = char_t\n",
    "                t_to_s[char_t] = char_s\n",
    "            elif s_to_t.get(char_s) != char_t or t_to_s.get(char_t) != char_s:\n",
    "                return False\n",
    "            \n",
    "        return True\n",
    "\n",
    "solution = Solution()\n",
    "s = \"egg\"\n",
    "t = \"add\"\n",
    "result = solution.isIsomorphic(s,t)\n",
    "print(result)"
   ]
  }
 ],
 "metadata": {
  "language_info": {
   "name": "python"
  },
  "orig_nbformat": 4
 },
 "nbformat": 4,
 "nbformat_minor": 2
}
