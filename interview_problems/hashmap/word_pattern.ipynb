{
 "cells": [
  {
   "attachments": {},
   "cell_type": "markdown",
   "metadata": {},
   "source": [
    "# Word Pattern (easy)"
   ]
  },
  {
   "attachments": {},
   "cell_type": "markdown",
   "metadata": {},
   "source": [
    "Given a pattern and a string s, find if s follows the same pattern.\n",
    "\n",
    "Here follow means a full match, such that there is a bijection between a letter in pattern and a non-empty word in s.\n",
    "\n",
    "Example 1:\n",
    "\n",
    "Input: pattern = \"abba\", s = \"dog cat cat dog\"\n",
    "Output: true\n",
    "\n",
    "Example 2:\n",
    "\n",
    "Input: pattern = \"abba\", s = \"dog cat cat fish\"\n",
    "Output: false\n",
    "\n",
    "Example 3:\n",
    "\n",
    "Input: pattern = \"aaaa\", s = \"dog cat cat dog\"\n",
    "Output: false"
   ]
  },
  {
   "cell_type": "code",
   "execution_count": null,
   "metadata": {},
   "outputs": [],
   "source": [
    "class Solution:\n",
    "    def wordPattern(self, pattern: str, s: str) -> bool:\n",
    "        pass\n",
    "\n",
    "solution = Solution()\n",
    "pattern = \"abba\"\n",
    "s = \"dog cat cat dog\"\n",
    "result = solution.wordPattern(pattern, s)\n",
    "print(result)"
   ]
  }
 ],
 "metadata": {
  "language_info": {
   "name": "python"
  },
  "orig_nbformat": 4
 },
 "nbformat": 4,
 "nbformat_minor": 2
}
