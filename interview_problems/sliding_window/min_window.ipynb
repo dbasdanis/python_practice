{
 "cells": [
  {
   "attachments": {},
   "cell_type": "markdown",
   "metadata": {},
   "source": [
    "# Minimum Window Substring (Hard)"
   ]
  },
  {
   "attachments": {},
   "cell_type": "markdown",
   "metadata": {},
   "source": [
    "Given two strings s and t of lengths m and n respectively, return the minimum window substring\n",
    "of s such that every character in t (including duplicates) is included in the window. If there is no such substring, return the empty string \"\".\n",
    "\n",
    "The testcases will be generated such that the answer is unique.\n",
    "\n",
    "Example 1:\n",
    "\n",
    "Input: s = \"ADOBECODEBANC\", t = \"ABC\"\n",
    "Output: \"BANC\"\n",
    "Explanation: The minimum window substring \"BANC\" includes 'A', 'B', and 'C' from string t.\n",
    "\n",
    "Example 2:\n",
    "\n",
    "Input: s = \"a\", t = \"a\"\n",
    "Output: \"a\"\n",
    "Explanation: The entire string s is the minimum window.\n",
    "\n",
    "Example 3:\n",
    "\n",
    "Input: s = \"a\", t = \"aa\"\n",
    "Output: \"\"\n",
    "Explanation: Both 'a's from t must be included in the window.\n",
    "Since the largest window of s only has one 'a', return empty string."
   ]
  },
  {
   "cell_type": "code",
   "execution_count": 2,
   "metadata": {},
   "outputs": [
    {
     "name": "stdout",
     "output_type": "stream",
     "text": [
      "{'A': 1, 'B': 1, 'C': 1}\n",
      "BANC\n"
     ]
    }
   ],
   "source": [
    "# sliding window technique\n",
    "\n",
    "class Solution:\n",
    "    def minWindow(self, s:str, t:str)->str:\n",
    "        target_counts = {}\n",
    "        for char in t:\n",
    "            target_counts[char] = target_counts.get(char, 0) + 1\n",
    "\n",
    "        required_chars = len(target_counts)\n",
    "        formed_chars = 0\n",
    "        left = right = 0\n",
    "        min_window_size = float('inf')\n",
    "        min_window_start = -1\n",
    "\n",
    "        while right < len(s):\n",
    "            if s[right] in target_counts:\n",
    "                target_counts[s[right]] -= 1\n",
    "                if target_counts[s[right]] == 0:\n",
    "                    formed_chars += 1\n",
    "\n",
    "            while formed_chars == required_chars:\n",
    "                if right - left + 1 < min_window_size:\n",
    "                    min_window_size = right - left + 1\n",
    "                    min_window_start = left\n",
    "\n",
    "                if s[left] in target_counts:\n",
    "                    target_counts[s[left]] += 1\n",
    "                    if target_counts[s[left]] > 0:\n",
    "                        formed_chars -= 1\n",
    "\n",
    "                left += 1\n",
    "\n",
    "            right += 1\n",
    "\n",
    "        if min_window_start == -1:\n",
    "            return \"\"\n",
    "        else:\n",
    "            return s[min_window_start:min_window_start + min_window_size]\n",
    "\n",
    "solution = Solution()\n",
    "s = \"ADOBECODEBANC\"\n",
    "t = \"ABC\"\n",
    "result = solution.minWindow(s,t)\n",
    "print(result)"
   ]
  }
 ],
 "metadata": {
  "kernelspec": {
   "display_name": "venv",
   "language": "python",
   "name": "python3"
  },
  "language_info": {
   "codemirror_mode": {
    "name": "ipython",
    "version": 3
   },
   "file_extension": ".py",
   "mimetype": "text/x-python",
   "name": "python",
   "nbconvert_exporter": "python",
   "pygments_lexer": "ipython3",
   "version": "3.11.2"
  },
  "orig_nbformat": 4,
  "vscode": {
   "interpreter": {
    "hash": "5aa9d9cfaefd52d9eee0e4decc26aff1d3ddaa6ecc236e5a9a4e808ebd9cabf2"
   }
  }
 },
 "nbformat": 4,
 "nbformat_minor": 2
}
