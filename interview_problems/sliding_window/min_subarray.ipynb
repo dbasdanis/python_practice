{
 "cells": [
  {
   "attachments": {},
   "cell_type": "markdown",
   "metadata": {},
   "source": [
    "# Minimum Size Subarray Sum"
   ]
  },
  {
   "attachments": {},
   "cell_type": "markdown",
   "metadata": {},
   "source": [
    "Given an array of positive integers nums and a positive integer target, return the minimal length of a \n",
    "subarray whose sum is greater than or equal to target. If there is no such subarray, return 0 instead.\n",
    "\n",
    "Example 1:\n",
    "\n",
    "Input: target = 7, nums = [2,3,1,2,4,3]\n",
    "Output: 2\n",
    "Explanation: The subarray [4,3] has the minimal length under the problem constraint.\n",
    "\n",
    "Example 2:\n",
    "\n",
    "Input: target = 4, nums = [1,4,4]\n",
    "Output: 1\n",
    "\n",
    "Example 3:\n",
    "\n",
    "Input: target = 11, nums = [1,1,1,1,1,1,1,1]\n",
    "Output: 0"
   ]
  },
  {
   "cell_type": "code",
   "execution_count": 1,
   "metadata": {},
   "outputs": [
    {
     "name": "stdout",
     "output_type": "stream",
     "text": [
      "2\n"
     ]
    }
   ],
   "source": [
    "from typing import List\n",
    "\n",
    "class Solution:\n",
    "    def minSubArrayLen(self, target: int, nums: List[int]) -> int:\n",
    "        n = len(nums)\n",
    "        left = 0\n",
    "        min_length = float('inf') # float('inf') acts as an inbounded upper value for comparison\n",
    "        current_sum = 0\n",
    "        \n",
    "        for right in range(n):\n",
    "            current_sum += nums[right]\n",
    "            \n",
    "            while current_sum >= target:\n",
    "                min_length = min(min_length, right - left + 1)\n",
    "                current_sum -= nums[left]\n",
    "                left += 1\n",
    "        \n",
    "        return min_length if min_length != float('inf') else 0\n",
    "\n",
    "solution = Solution()\n",
    "target = 7\n",
    "nums = [2,3,1,2,4,3]\n",
    "result = solution.minSubArrayLen(target, nums)\n",
    "print(result)"
   ]
  }
 ],
 "metadata": {
  "kernelspec": {
   "display_name": "venv",
   "language": "python",
   "name": "python3"
  },
  "language_info": {
   "codemirror_mode": {
    "name": "ipython",
    "version": 3
   },
   "file_extension": ".py",
   "mimetype": "text/x-python",
   "name": "python",
   "nbconvert_exporter": "python",
   "pygments_lexer": "ipython3",
   "version": "3.11.2"
  },
  "orig_nbformat": 4,
  "vscode": {
   "interpreter": {
    "hash": "5aa9d9cfaefd52d9eee0e4decc26aff1d3ddaa6ecc236e5a9a4e808ebd9cabf2"
   }
  }
 },
 "nbformat": 4,
 "nbformat_minor": 2
}
