{
 "cells": [
  {
   "attachments": {},
   "cell_type": "markdown",
   "metadata": {},
   "source": [
    "# Minimum Size Subarray Sum"
   ]
  },
  {
   "attachments": {},
   "cell_type": "markdown",
   "metadata": {},
   "source": [
    "Given an array of positive integers nums and a positive integer target, return the minimal length of a \n",
    "subarray whose sum is greater than or equal to target. If there is no such subarray, return 0 instead.\n",
    "\n",
    "Example 1:\n",
    "\n",
    "Input: target = 7, nums = [2,3,1,2,4,3]\n",
    "Output: 2\n",
    "Explanation: The subarray [4,3] has the minimal length under the problem constraint.\n",
    "\n",
    "Example 2:\n",
    "\n",
    "Input: target = 4, nums = [1,4,4]\n",
    "Output: 1\n",
    "\n",
    "Example 3:\n",
    "\n",
    "Input: target = 11, nums = [1,1,1,1,1,1,1,1]\n",
    "Output: 0"
   ]
  },
  {
   "cell_type": "code",
   "execution_count": 1,
   "metadata": {},
   "outputs": [
    {
     "name": "stdout",
     "output_type": "stream",
     "text": [
      "2\n"
     ]
    }
   ],
   "source": [
    "from typing import List\n",
    "\n",
    "class Solution:\n",
    "    def minSubArrayLen(self, target: int, nums: List[int]) -> int:\n",
    "        n = len(nums)\n",
    "        left = 0\n",
    "        min_length = float('inf') # float('inf') acts as an inbounded upper value for comparison\n",
    "        current_sum = 0\n",
    "        \n",
    "        for right in range(n):\n",
    "            current_sum += nums[right]\n",
    "            \n",
    "            while current_sum >= target:\n",
    "                min_length = min(min_length, right - left + 1)\n",
    "                current_sum -= nums[left]\n",
    "                left += 1\n",
    "        \n",
    "        return min_length if min_length != float('inf') else 0\n",
    "\n",
    "solution = Solution()\n",
    "target = 7\n",
    "nums = [2,3,1,2,4,3]\n",
    "result = solution.minSubArrayLen(target, nums)\n",
    "print(result)"
   ]
  },
  {
   "attachments": {},
   "cell_type": "markdown",
   "metadata": {},
   "source": [
    "### Explanation\n",
    "\n",
    "To solve this problem, we can use the sliding window technique. We 'll maintain two pointers, left and right, that\n",
    "define the current subarray. We 'll keep moving the right pointer to expand the subarray until the sum of the elements\n",
    "in the subarray is greater than or equal to the target. Once the sum is reached, we 'll update the minimal length if \n",
    "necessary and then move the left pointer to shrink the subarray while the sum greater than or equal to the target.\n",
    "In the code, we initialize the left pointer to 0 and the minimum length to infinity. We also initialize the current \n",
    "sum to 0. We iterate through the array using the right pointer. For each iteration, we add the current element to \n",
    "the current sum. If the current sum is greater than or equal to the target, we update the minimal length if necessary \n",
    "and then move the left pointer to shrink the subarray while still maintaining the sum greater than or equal to the \n",
    "target. Finally, we return the minimal length, or 0 if no subarray satisfies the condition."
   ]
  }
 ],
 "metadata": {
  "kernelspec": {
   "display_name": "venv",
   "language": "python",
   "name": "python3"
  },
  "language_info": {
   "codemirror_mode": {
    "name": "ipython",
    "version": 3
   },
   "file_extension": ".py",
   "mimetype": "text/x-python",
   "name": "python",
   "nbconvert_exporter": "python",
   "pygments_lexer": "ipython3",
   "version": "3.11.2"
  },
  "orig_nbformat": 4,
  "vscode": {
   "interpreter": {
    "hash": "5aa9d9cfaefd52d9eee0e4decc26aff1d3ddaa6ecc236e5a9a4e808ebd9cabf2"
   }
  }
 },
 "nbformat": 4,
 "nbformat_minor": 2
}
