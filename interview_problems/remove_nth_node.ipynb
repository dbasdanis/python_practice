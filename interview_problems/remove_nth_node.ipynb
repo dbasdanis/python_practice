{
 "cells": [
  {
   "attachments": {},
   "cell_type": "markdown",
   "metadata": {},
   "source": [
    "# Remove Nth Node From End of List (medium)"
   ]
  },
  {
   "attachments": {},
   "cell_type": "markdown",
   "metadata": {},
   "source": [
    "Given the head of a linked list, remove the nth node from the end of the list and return its head.\n",
    "\n",
    "Example 1:\n",
    "\n",
    "Input: head = [1,2,3,4,5], n = 2\n",
    "Output: [1,2,3,5]\n",
    "\n",
    "Example 2:\n",
    "\n",
    "Input: head = [1], n = 1\n",
    "Output: []\n",
    "\n",
    "Example 3:\n",
    "\n",
    "Input: head = [1,2], n = 1\n",
    "Output: [1]"
   ]
  },
  {
   "cell_type": "code",
   "execution_count": null,
   "metadata": {},
   "outputs": [],
   "source": [
    "class ListNode:\n",
    "    def __init__(self, val=0, next=None):\n",
    "        self.val = val\n",
    "        self.next = next\n",
    "\n",
    "# By using two pointers, we can find the node to be removed by mainting a distance of 'n'\n",
    "# node between them. After reaching the end of the list, we can easily remove the desired\n",
    "# node by updating the 'next' pointer of the preceding node.\n",
    "\n",
    "def removeNthFromEnd(head, n):\n",
    "    # create a dummy node as the previous node of the head\n",
    "    dummy = ListNode(0)\n",
    "    dummy.next = head\n",
    "\n",
    "    # initialize two pointer, fast and slow, both pointing to the dummy node\n",
    "    fast = slow = dummy\n",
    "\n",
    "    # move the fast pointer ahead by n+1 steps\n",
    "    for _ in range(n+1):\n",
    "        fast = fast.next\n",
    "\n",
    "    # move both pointers simultaneously until the fast pointer reaches the end\n",
    "    while fast:\n",
    "        fast = fast.next\n",
    "        slow = slow.next\n",
    "\n",
    "    # remove the nth node from the end by updating the next pointer of the preceding node.\n",
    "    slow.next = slow.next.next\n",
    "\n",
    "    # return the head of the modified linked list\n",
    "    return dummy.next"
   ]
  }
 ],
 "metadata": {
  "language_info": {
   "name": "python"
  },
  "orig_nbformat": 4
 },
 "nbformat": 4,
 "nbformat_minor": 2
}
