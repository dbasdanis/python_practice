{
 "cells": [
  {
   "attachments": {},
   "cell_type": "markdown",
   "metadata": {},
   "source": [
    "# Length of Last Word"
   ]
  },
  {
   "attachments": {},
   "cell_type": "markdown",
   "metadata": {},
   "source": [
    "Given a string s consisting of words and spaces, return the length of the last word in the string.\n",
    "\n",
    "A word is a maximal substring consisting of non-space characters only.\n",
    " \n",
    "Example 1:\n",
    "\n",
    "Input: s = \"Hello World\"\n",
    "Output: 5\n",
    "Explanation: The last word is \"World\" with length 5.\n",
    "\n",
    "Example 2:\n",
    "\n",
    "Input: s = \"   fly me   to   the moon  \"\n",
    "Output: 4\n",
    "Explanation: The last word is \"moon\" with length 4.\n",
    "\n",
    "Example 3:\n",
    "\n",
    "Input: s = \"luffy is still joyboy\"\n",
    "Output: 6\n",
    "Explanation: The last word is \"joyboy\" with length 6.\n"
   ]
  }
 ],
 "metadata": {
  "language_info": {
   "name": "python"
  },
  "orig_nbformat": 4
 },
 "nbformat": 4,
 "nbformat_minor": 2
}
