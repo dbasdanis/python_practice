{
 "cells": [
  {
   "attachments": {},
   "cell_type": "markdown",
   "metadata": {},
   "source": [
    "# Remove duplicates from sorted array II"
   ]
  },
  {
   "attachments": {},
   "cell_type": "markdown",
   "metadata": {},
   "source": [
    "Given an integer array nums sorted in non-decreasing order, remove some duplicates in-place such that each unique element appears at most twice. The relative order of the elements should be kept the same.\n",
    "\n",
    "Since it is impossible to change the length of the array in some languages, you must instead have the result be placed in the first part of the array nums. More formally, if there are k elements after removing the duplicates, then the first k elements of nums should hold the final result. It does not matter what you leave beyond the first k elements.\n",
    "\n",
    "Return k after placing the final result in the first k slots of nums.\n",
    "\n",
    "Do not allocate extra space for another array. You must do this by modifying the input array in-place with O(1) extra memory.\n",
    "\n",
    "Custom Judge:\n",
    "\n",
    "The judge will test your solution with the following code:\n",
    "\n",
    "int[] nums = [...]; // Input array\n",
    "int[] expectedNums = [...]; // The expected answer with correct length\n",
    "\n",
    "int k = removeDuplicates(nums); // Calls your implementation\n",
    "\n",
    "assert k == expectedNums.length;\n",
    "for (int i = 0; i < k; i++) {\n",
    "    assert nums[i] == expectedNums[i];\n",
    "}\n",
    "If all assertions pass, then your solution will be accepted.\n",
    "\n",
    " \n",
    "\n",
    "Example 1:\n",
    "\n",
    "Input: nums = [1,1,1,2,2,3]\n",
    "Output: 5, nums = [1,1,2,2,3,_]\n",
    "Explanation: Your function should return k = 5, with the first five elements of nums being 1, 1, 2, 2 and 3 respectively.\n",
    "It does not matter what you leave beyond the returned k (hence they are underscores).\n",
    "Example 2:\n",
    "\n",
    "Input: nums = [0,0,1,1,1,1,2,3,3]\n",
    "Output: 7, nums = [0,0,1,1,2,3,3,_,_]\n",
    "Explanation: Your function should return k = 7, with the first seven elements of nums being 0, 0, 1, 1, 2, 3 and 3 respectively.\n",
    "It does not matter what you leave beyond the returned k (hence they are underscores)."
   ]
  },
  {
   "attachments": {},
   "cell_type": "markdown",
   "metadata": {},
   "source": [
    "### Solution"
   ]
  },
  {
   "cell_type": "code",
   "execution_count": 75,
   "metadata": {},
   "outputs": [
    {
     "name": "stdout",
     "output_type": "stream",
     "text": [
      "[1, 1, 2, 2, 3, 3]\n"
     ]
    }
   ],
   "source": [
    "from typing import List\n",
    "class Solution:\n",
    "    def removeDuplicates(self, nums: List[int]) -> int:\n",
    "        counter = 0\n",
    "        pos = 0\n",
    "        times = 0\n",
    "        for i in nums:\n",
    "            for j in nums:\n",
    "                if i == j:\n",
    "                    counter+=1\n",
    "            if counter <= 2:\n",
    "                nums[pos] = i\n",
    "                pos += 1\n",
    "            else:\n",
    "                if times == 0:\n",
    "                    element = i\n",
    "                if i != element:\n",
    "                    times = 0\n",
    "                    element = i\n",
    "                if times < 2:\n",
    "                    nums[pos] = i\n",
    "                    pos += 1\n",
    "                    times += 1\n",
    "\n",
    "            counter = 0\n",
    "\n",
    "        return pos\n",
    "    \n",
    "solution = Solution()\n",
    "nums = [1,1,1,2,2,2,3,3]\n",
    "k = solution.removeDuplicates(nums)\n",
    "print(nums[:k])"
   ]
  },
  {
   "attachments": {},
   "cell_type": "markdown",
   "metadata": {},
   "source": [
    "### Solution II"
   ]
  },
  {
   "cell_type": "code",
   "execution_count": 77,
   "metadata": {},
   "outputs": [
    {
     "name": "stdout",
     "output_type": "stream",
     "text": [
      "[1, 1, 2, 2, 3, 3]\n"
     ]
    }
   ],
   "source": [
    "from typing import List\n",
    "class Solution:\n",
    "    def removeDuplicates(self,nums):\n",
    "        if not nums:\n",
    "            return 0\n",
    "        \n",
    "        count = 1  # Initialize count to keep track of unique elements\n",
    "        duplicate_count = 0  # Initialize duplicate_count to keep track of duplicates\n",
    "        index = 1  # Start from the second element\n",
    "        \n",
    "        while index < len(nums):\n",
    "            if nums[index] == nums[index - 1]:\n",
    "                duplicate_count += 1\n",
    "            else:\n",
    "                duplicate_count = 0\n",
    "            \n",
    "            if duplicate_count < 2:\n",
    "                nums[count] = nums[index]\n",
    "                count += 1\n",
    "            \n",
    "            index += 1\n",
    "        \n",
    "        return count\n",
    "\n",
    "\n",
    "    \n",
    "solution = Solution()\n",
    "nums = [1,1,1,2,2,2,3,3]\n",
    "k = solution.removeDuplicates(nums)\n",
    "print(nums[:k])\n"
   ]
  }
 ],
 "metadata": {
  "kernelspec": {
   "display_name": "venv",
   "language": "python",
   "name": "python3"
  },
  "language_info": {
   "codemirror_mode": {
    "name": "ipython",
    "version": 3
   },
   "file_extension": ".py",
   "mimetype": "text/x-python",
   "name": "python",
   "nbconvert_exporter": "python",
   "pygments_lexer": "ipython3",
   "version": "3.11.2"
  },
  "orig_nbformat": 4,
  "vscode": {
   "interpreter": {
    "hash": "5aa9d9cfaefd52d9eee0e4decc26aff1d3ddaa6ecc236e5a9a4e808ebd9cabf2"
   }
  }
 },
 "nbformat": 4,
 "nbformat_minor": 2
}
