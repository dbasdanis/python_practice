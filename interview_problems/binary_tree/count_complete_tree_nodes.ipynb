{
 "cells": [
  {
   "attachments": {},
   "cell_type": "markdown",
   "metadata": {},
   "source": [
    "# Count Complete Tree Nodes (medium)\n",
    "\n",
    "Given the root of a complete binary tree, return the number of the nodes in the tree.\n",
    "\n",
    "According to Wikipedia, every level, except possibly the last, is completely filled in a complete binary tree, and all nodes in the last level are as far left as possible. It can have between 1 and 2h nodes inclusive at the last level h.\n",
    "\n",
    "Design an algorithm that runs in less than O(n) time complexity.\n",
    "\n",
    "Example 1:\n",
    "\n",
    "Input: root = [1,2,3,4,5,6]\n",
    "Output: 6\n",
    "\n",
    "Example 2:\n",
    "\n",
    "Input: root = []\n",
    "Output: 0\n",
    "\n",
    "Example 3:\n",
    "\n",
    "Input: root = [1]\n",
    "Output: 1"
   ]
  },
  {
   "cell_type": "code",
   "execution_count": 2,
   "metadata": {},
   "outputs": [],
   "source": [
    "# Definition for a binary tree node.\n",
    "from typing import Optional\n",
    "class TreeNode:\n",
    "    def __init__(self, val=0, left=None, right=None):\n",
    "        self.val = val\n",
    "        self.left = left\n",
    "        self.right = right\n",
    "class Solution:\n",
    "    def countNodes(self, root: Optional[TreeNode]) -> int:\n",
    "        if not root:\n",
    "            return 0\n",
    "        \n",
    "        left_height = self.computeHeight(root.left)\n",
    "        right_height = self.computeHeight(root.right)\n",
    "        \n",
    "        if left_height == right_height:\n",
    "            # The left subtree is a perfect binary tree\n",
    "            return (1 << left_height) + self.countNodes(root.right)\n",
    "        else:\n",
    "            # The right subtree is a perfect binary tree\n",
    "            return (1 << right_height) + self.countNodes(root.left)\n",
    "\n",
    "    def computeHeight(self, node: Optional[TreeNode]) -> int:\n",
    "        height = 0\n",
    "        while node:\n",
    "            height += 1\n",
    "            node = node.left\n",
    "        return height"
   ]
  },
  {
   "cell_type": "code",
   "execution_count": 3,
   "metadata": {},
   "outputs": [
    {
     "name": "stdout",
     "output_type": "stream",
     "text": [
      "6\n"
     ]
    }
   ],
   "source": [
    "# Create the binary tree\n",
    "#      1\n",
    "#     / \\\n",
    "#    2   3\n",
    "#   / \\  /\n",
    "#  4   5 6\n",
    "root = TreeNode(1)\n",
    "root.left = TreeNode(2)\n",
    "root.right = TreeNode(3)\n",
    "root.left.left = TreeNode(4)\n",
    "root.left.right = TreeNode(5)\n",
    "root.right.left = TreeNode(6)\n",
    "\n",
    "# Create an instance of the Solution class\n",
    "solution = Solution()\n",
    "\n",
    "# Call the countNodes function\n",
    "count = solution.countNodes(root)\n",
    "\n",
    "# Print the result\n",
    "print(count)  # Output: 6"
   ]
  },
  {
   "attachments": {},
   "cell_type": "markdown",
   "metadata": {},
   "source": [
    "# Explanation\n",
    "In this implementation, the countNodes function takes the root of the binary tree as input and returns the total number of nodes in the tree. It uses the concept of a complete binary tree to determine whether the left or right subtree is a perfect binary tree. Based on that, it recursively counts the number of nodes in the tree.\n",
    "\n",
    "The computeHeight function is a helper function that computes the height (number of levels) of a binary tree. It starts from a node and traverses the left child until reaching the bottom level.\n",
    "\n",
    "This algorithm has a time complexity of O(log^2 n) since it computes the height of the tree and performs binary tree traversals. It satisfies the requirement of running in less than O(n) time complexity.\n"
   ]
  }
 ],
 "metadata": {
  "kernelspec": {
   "display_name": "venv",
   "language": "python",
   "name": "python3"
  },
  "language_info": {
   "codemirror_mode": {
    "name": "ipython",
    "version": 3
   },
   "file_extension": ".py",
   "mimetype": "text/x-python",
   "name": "python",
   "nbconvert_exporter": "python",
   "pygments_lexer": "ipython3",
   "version": "3.11.2"
  },
  "orig_nbformat": 4,
  "vscode": {
   "interpreter": {
    "hash": "5aa9d9cfaefd52d9eee0e4decc26aff1d3ddaa6ecc236e5a9a4e808ebd9cabf2"
   }
  }
 },
 "nbformat": 4,
 "nbformat_minor": 2
}
