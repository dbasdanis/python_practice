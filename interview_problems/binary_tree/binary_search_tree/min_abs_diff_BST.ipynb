{
 "cells": [
  {
   "attachments": {},
   "cell_type": "markdown",
   "metadata": {},
   "source": [
    "# Minimum absolute Difference in BST (easy)\n",
    "\n",
    "Given the root of a Binary Search Tree (BST), return the minimum absolute difference between the values of any two different nodes in the tree.\n",
    "\n",
    "Example 1:\n",
    "\n",
    "Input: root = [4,2,6,1,3]\n",
    "Output: 1\n",
    "\n",
    "Example 2:\n",
    "\n",
    "Input: root = [1,0,48,null,null,12,49]\n",
    "Output: 1"
   ]
  },
  {
   "cell_type": "code",
   "execution_count": 8,
   "metadata": {},
   "outputs": [
    {
     "name": "stdout",
     "output_type": "stream",
     "text": [
      "1\n"
     ]
    }
   ],
   "source": [
    "from typing import Optional\n",
    "# Definition for a binary tree node.\n",
    "class TreeNode:\n",
    "    def __init__(self, val=0, left=None, right=None):\n",
    "        self.val = val\n",
    "        self.left = left\n",
    "        self.right = right\n",
    "class Solution:\n",
    "    def getMinimumDifference(self, root: Optional[TreeNode]) -> int:\n",
    "        stack = []\n",
    "        prev = None\n",
    "        min_diff = float('inf')\n",
    "\n",
    "        # perform iterative inorder traversal\n",
    "        while stack or root:\n",
    "            while root:\n",
    "                stack.append(root)\n",
    "                root = root.left\n",
    "            \n",
    "            root = stack.pop()\n",
    "\n",
    "            if prev is not None:\n",
    "                min_diff = min(min_diff, abs(root.val-prev))\n",
    "\n",
    "            prev = root.val\n",
    "            root = root.right\n",
    "\n",
    "        return min_diff\n",
    "\n",
    "root = TreeNode(4)\n",
    "root.left = TreeNode(1)\n",
    "root.right = TreeNode(6)\n",
    "root.left.left = TreeNode(3)\n",
    "root.left.right = TreeNode(3)\n",
    "\n",
    "solution = Solution()\n",
    "result = solution.getMinimumDifference(root)\n",
    "print(result)"
   ]
  }
 ],
 "metadata": {
  "kernelspec": {
   "display_name": "venv",
   "language": "python",
   "name": "python3"
  },
  "language_info": {
   "codemirror_mode": {
    "name": "ipython",
    "version": 3
   },
   "file_extension": ".py",
   "mimetype": "text/x-python",
   "name": "python",
   "nbconvert_exporter": "python",
   "pygments_lexer": "ipython3",
   "version": "3.11.2"
  },
  "orig_nbformat": 4,
  "vscode": {
   "interpreter": {
    "hash": "5aa9d9cfaefd52d9eee0e4decc26aff1d3ddaa6ecc236e5a9a4e808ebd9cabf2"
   }
  }
 },
 "nbformat": 4,
 "nbformat_minor": 2
}
