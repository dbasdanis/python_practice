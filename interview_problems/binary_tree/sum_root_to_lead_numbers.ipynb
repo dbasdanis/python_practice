{
 "cells": [
  {
   "attachments": {},
   "cell_type": "markdown",
   "metadata": {},
   "source": [
    "# Sum Root to Leaf Numbers (medium)\n",
    "\n",
    "You are given the root of a binary tree containing digits from 0 to 9 only.\n",
    "\n",
    "Each root-to-leaf path in the tree represents a number.\n",
    "\n",
    "For example, the root-to-leaf path 1 -> 2 -> 3 represents the number 123.\n",
    "Return the total sum of all root-to-leaf numbers. Test cases are generated so that the answer will fit in a 32-bit integer.\n",
    "\n",
    "A leaf node is a node with no children.\n",
    "\n",
    "Example 1:\n",
    "\n",
    "Input: root = [1,2,3]\n",
    "Output: 25\n",
    "- Explanation:\n",
    "    - The root-to-leaf path 1->2 represents the number 12.\n",
    "    - The root-to-leaf path 1->3 represents the number 13.\n",
    "    - Therefore, sum = 12 + 13 = 25.\n",
    "\n",
    "Example 2:\n",
    "\n",
    "Input: root = [4,9,0,5,1]\n",
    "Output: 1026\n",
    "- Explanation:\n",
    "    - The root-to-leaf path 4->9->5 represents the number 495.\n",
    "    - The root-to-leaf path 4->9->1 represents the number 491.\n",
    "    - The root-to-leaf path 4->0 represents the number 40.\n",
    "    - Therefore, sum = 495 + 491 + 40 = 1026."
   ]
  }
 ],
 "metadata": {
  "language_info": {
   "name": "python"
  },
  "orig_nbformat": 4
 },
 "nbformat": 4,
 "nbformat_minor": 2
}
