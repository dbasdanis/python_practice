{
 "cells": [
  {
   "attachments": {},
   "cell_type": "markdown",
   "metadata": {},
   "source": [
    "# Lowest Common Ancestor of a Binary Tree (medium)\n",
    "\n",
    "Given a binary tree, find the lowest common ancestor (LCA) of two given nodes in the tree.\n",
    "\n",
    "According to the definition of LCA on Wikipedia: “The lowest common ancestor is defined between two nodes p and q as the lowest node in T that has both p and q as descendants (where we allow a node to be a descendant of itself).”\n",
    "\n",
    "Example 1:\n",
    "\n",
    "<img src = 'binarytree.png' alt = 'binarytree' width = '200'>\n",
    "\n",
    "- Input: root = [3,5,1,6,2,0,8,null,null,7,4], p = 5, q = 1\n",
    "- Output: 3\n",
    "- Explanation: The LCA of nodes 5 and 1 is 3.\n",
    "\n",
    "Example 2:\n",
    "\n",
    "- Input: root = [3,5,1,6,2,0,8,null,null,7,4], p = 5, q = 4\n",
    "- Output: 5\n",
    "- Explanation: The LCA of nodes 5 and 4 is 5, since a node can be a descendant of itself according to the LCA - - definition.\n",
    "\n",
    "Example 3:\n",
    "\n",
    "- Input: root = [1,2], p = 1, q = 2\n",
    "- Output: 1"
   ]
  },
  {
   "cell_type": "code",
   "execution_count": 1,
   "metadata": {},
   "outputs": [],
   "source": [
    "# Definition for a binary tree node.\n",
    "class TreeNode:\n",
    "    def __init__(self, val=0, left=None, right=None):\n",
    "        self.val = val\n",
    "        self.left = left\n",
    "        self.right = right\n",
    "\n",
    "class Solution:\n",
    "    def lowestCommonAncestor(self, root: 'TreeNode', p: 'TreeNode', q: 'TreeNode') -> 'TreeNode':\n",
    "        # Base case: If root is None or it matches with either p or q, return root\n",
    "        if not root or root == p or root == q:\n",
    "            return root\n",
    "        \n",
    "        # Recursively search for p and q in the left and right subtrees\n",
    "        left_subtree = self.lowestCommonAncestor(root.left, p, q)\n",
    "        right_subtree = self.lowestCommonAncestor(root.right, p, q)\n",
    "        \n",
    "        # If both p and q are found in different subtrees, then the current root is the LCA\n",
    "        if left_subtree and right_subtree:\n",
    "            return root\n",
    "        \n",
    "        # Otherwise, the LCA is either in the left or right subtree\n",
    "        return left_subtree if left_subtree else right_subtree\n"
   ]
  },
  {
   "cell_type": "code",
   "execution_count": 3,
   "metadata": {},
   "outputs": [
    {
     "name": "stdout",
     "output_type": "stream",
     "text": [
      "Lowest Common Ancestor of 5 and 1: 3\n"
     ]
    }
   ],
   "source": [
    "# Create the binary tree\n",
    "root = TreeNode(3)             #        3\n",
    "root.left = TreeNode(5)        #       / \\\n",
    "root.right = TreeNode(1)       #      5   1\n",
    "root.left.left = TreeNode(6)   #     / \\ / \\\n",
    "root.left.right = TreeNode(2)  #    6  2 0  8\n",
    "root.right.left = TreeNode(0)  #      / \\\n",
    "root.right.right = TreeNode(8) #     7   4\n",
    "root.left.right.left = TreeNode(7)\n",
    "root.left.right.right = TreeNode(4)\n",
    "\n",
    "# Create the solution object\n",
    "solution = Solution()\n",
    "\n",
    "# Find the lowest common ancestor of nodes 5 and 1\n",
    "p = root.left\n",
    "q = root.right\n",
    "lca = solution.lowestCommonAncestor(root, p, q)\n",
    "print(\"Lowest Common Ancestor of 5 and 1:\", lca.val)"
   ]
  }
 ],
 "metadata": {
  "kernelspec": {
   "display_name": "venv",
   "language": "python",
   "name": "python3"
  },
  "language_info": {
   "codemirror_mode": {
    "name": "ipython",
    "version": 3
   },
   "file_extension": ".py",
   "mimetype": "text/x-python",
   "name": "python",
   "nbconvert_exporter": "python",
   "pygments_lexer": "ipython3",
   "version": "3.11.2"
  },
  "orig_nbformat": 4,
  "vscode": {
   "interpreter": {
    "hash": "5aa9d9cfaefd52d9eee0e4decc26aff1d3ddaa6ecc236e5a9a4e808ebd9cabf2"
   }
  }
 },
 "nbformat": 4,
 "nbformat_minor": 2
}
