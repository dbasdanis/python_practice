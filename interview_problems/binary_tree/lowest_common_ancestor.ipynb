{
 "cells": [
  {
   "attachments": {},
   "cell_type": "markdown",
   "metadata": {},
   "source": [
    "# Lowest Common Ancestor of a Binary Tree (medium)\n",
    "\n",
    "Given a binary tree, find the lowest common ancestor (LCA) of two given nodes in the tree.\n",
    "\n",
    "According to the definition of LCA on Wikipedia: “The lowest common ancestor is defined between two nodes p and q as the lowest node in T that has both p and q as descendants (where we allow a node to be a descendant of itself).”\n",
    "\n",
    "Example 1:\n",
    "\n",
    "<img src = 'binarytree.png' alt = 'binarytree' width = '200'>\n",
    "\n",
    "- Input: root = [3,5,1,6,2,0,8,null,null,7,4], p = 5, q = 1\n",
    "- Output: 3\n",
    "- Explanation: The LCA of nodes 5 and 1 is 3.\n",
    "\n",
    "Example 2:\n",
    "\n",
    "- Input: root = [3,5,1,6,2,0,8,null,null,7,4], p = 5, q = 4\n",
    "- Output: 5\n",
    "- Explanation: The LCA of nodes 5 and 4 is 5, since a node can be a descendant of itself according to the LCA - - definition.\n",
    "\n",
    "Example 3:\n",
    "\n",
    "- Input: root = [1,2], p = 1, q = 2\n",
    "- Output: 1"
   ]
  },
  {
   "cell_type": "code",
   "execution_count": null,
   "metadata": {},
   "outputs": [],
   "source": [
    "# Definition for a binary tree node.\n",
    "class TreeNode:\n",
    "    def __init__(self, val=0, left=None, right=None):\n",
    "        self.val = val\n",
    "        self.left = left\n",
    "        self.right = right\n",
    "\n",
    "class Solution:\n",
    "    def lowestCommonAncestor(self, root: 'TreeNode', p: 'TreeNode', q: 'TreeNode') -> 'TreeNode':\n",
    "        # Base case: If root is None or it matches with either p or q, return root\n",
    "        if not root or root == p or root == q:\n",
    "            return root\n",
    "        \n",
    "        # Recursively search for p and q in the left and right subtrees\n",
    "        left_subtree = self.lowestCommonAncestor(root.left, p, q)\n",
    "        right_subtree = self.lowestCommonAncestor(root.right, p, q)\n",
    "        \n",
    "        # If both p and q are found in different subtrees, then the current root is the LCA\n",
    "        if left_subtree and right_subtree:\n",
    "            return root\n",
    "        \n",
    "        # Otherwise, the LCA is either in the left or right subtree\n",
    "        return left_subtree if left_subtree else right_subtree\n"
   ]
  }
 ],
 "metadata": {
  "kernelspec": {
   "display_name": "venv",
   "language": "python",
   "name": "python3"
  },
  "language_info": {
   "name": "python",
   "version": "3.11.2 (v3.11.2:878ead1ac1, Feb  7 2023, 10:02:41) [Clang 13.0.0 (clang-1300.0.29.30)]"
  },
  "orig_nbformat": 4,
  "vscode": {
   "interpreter": {
    "hash": "5aa9d9cfaefd52d9eee0e4decc26aff1d3ddaa6ecc236e5a9a4e808ebd9cabf2"
   }
  }
 },
 "nbformat": 4,
 "nbformat_minor": 2
}
