{
 "cells": [
  {
   "attachments": {},
   "cell_type": "markdown",
   "metadata": {},
   "source": [
    "# Invert Binary Tree (easy)"
   ]
  },
  {
   "attachments": {},
   "cell_type": "markdown",
   "metadata": {},
   "source": [
    "Given the root of a binary tree, invert the tree, and return its root.\n",
    "\n",
    "Example 1:\n",
    "\n",
    "Input: root = [4,2,7,1,3,6,9]\n",
    "Output: [4,7,2,9,6,3,1]\n",
    "\n",
    "Example 2:\n",
    "\n",
    "Input: root = [2,1,3]\n",
    "Output: [2,3,1]\n",
    "\n",
    "Example 3:\n",
    "\n",
    "Input: root = []\n",
    "Output: []"
   ]
  },
  {
   "cell_type": "code",
   "execution_count": null,
   "metadata": {},
   "outputs": [],
   "source": [
    "# To invert a binary tree, we can perform a recursive swap of the left and right\n",
    "# subtrees for each node.\n",
    "class TreeNode:\n",
    "    def __init__(self, val=0, left=None, right=None):\n",
    "        self.val = val\n",
    "        self.left = left\n",
    "        self.right = right\n",
    "\n",
    "def invert_tree(root):\n",
    "    if not root:\n",
    "        return None\n",
    "    \n",
    "    # swap the left and the right subtrees\n",
    "    root.left, root.right = root.right, root.left\n",
    "\n",
    "    # recursively invert the left and right subtrees\n",
    "    invert_tree(root.left)\n",
    "    invert_tree(root.right)\n",
    "\n",
    "    return root"
   ]
  }
 ],
 "metadata": {
  "language_info": {
   "name": "python"
  },
  "orig_nbformat": 4
 },
 "nbformat": 4,
 "nbformat_minor": 2
}
