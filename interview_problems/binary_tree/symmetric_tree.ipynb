{
 "cells": [
  {
   "attachments": {},
   "cell_type": "markdown",
   "metadata": {},
   "source": [
    "# Symmetric Tree (easy)"
   ]
  },
  {
   "attachments": {},
   "cell_type": "markdown",
   "metadata": {},
   "source": [
    "Given the root of a binary tree, check whether it is a mirror of itself (i.e., symmetric around its center).\n",
    "\n",
    "Example 1:\n",
    "\n",
    "Input: root = [1,2,2,3,4,4,3]\n",
    "Output: true\n",
    "\n",
    "Example 2:\n",
    "\n",
    "Input: root = [1,2,2,null,3,null,3]\n",
    "Output: false"
   ]
  }
 ],
 "metadata": {
  "language_info": {
   "name": "python"
  },
  "orig_nbformat": 4
 },
 "nbformat": 4,
 "nbformat_minor": 2
}
