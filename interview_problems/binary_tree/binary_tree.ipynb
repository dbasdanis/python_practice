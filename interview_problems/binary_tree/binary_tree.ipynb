{
 "cells": [
  {
   "attachments": {},
   "cell_type": "markdown",
   "metadata": {},
   "source": [
    "# Binary Tree Right Side View (medium)\n",
    "\n",
    "Given the root of a binary tree, imagine yourself standing on the right side of it, return the values of the nodes you can see ordered from top to bottom.\n",
    "\n",
    "Example 1:\n",
    "\n",
    "<img src = 'tree.jpeg' alt = 'tree' width = '200'>\n",
    "\n",
    "- Input: root = [1,2,3,null,5,null,4]\n",
    "- Output: [1,3,4]\n",
    "\n",
    "Example 2:\n",
    "\n",
    "- Input: root = [1,null,3]\n",
    "- Output: [1,3]\n",
    "\n",
    "Example 3:\n",
    "\n",
    "- Input: root = []\n",
    "- Output: []"
   ]
  }
 ],
 "metadata": {
  "language_info": {
   "name": "python"
  },
  "orig_nbformat": 4
 },
 "nbformat": 4,
 "nbformat_minor": 2
}
