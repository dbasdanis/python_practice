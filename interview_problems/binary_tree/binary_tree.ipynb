{
 "cells": [
  {
   "attachments": {},
   "cell_type": "markdown",
   "metadata": {},
   "source": [
    "# Binary Tree Right Side View (medium)\n",
    "\n",
    "Given the root of a binary tree, imagine yourself standing on the right side of it, return the values of the nodes you can see ordered from top to bottom.\n",
    "\n",
    "Example 1:\n",
    "\n",
    "<img src = 'tree.jpeg' alt = 'tree' width = '200'>\n",
    "\n",
    "- Input: root = [1,2,3,null,5,null,4]\n",
    "- Output: [1,3,4]\n",
    "\n",
    "Example 2:\n",
    "\n",
    "- Input: root = [1,null,3]\n",
    "- Output: [1,3]\n",
    "\n",
    "Example 3:\n",
    "\n",
    "- Input: root = []\n",
    "- Output: []"
   ]
  },
  {
   "cell_type": "code",
   "execution_count": null,
   "metadata": {},
   "outputs": [],
   "source": [
    "from typing import List, Optional\n",
    "from collections import deque\n",
    "\n",
    "# Definition for a binary tree node.\n",
    "class TreeNode:\n",
    "    def __init__(self, val=0, left=None, right=None):\n",
    "        self.val = val\n",
    "        self.left = left\n",
    "        self.right = right\n",
    "\n",
    "class Solution:\n",
    "    def rightSideView(self, root: Optional[TreeNode]) -> List[int]:\n",
    "        if not root:\n",
    "            return []\n",
    "\n",
    "        result = []\n",
    "        queue = deque([root])\n",
    "\n",
    "        while queue:\n",
    "            level_size = len(queue)\n",
    "\n",
    "            for i in range(level_size):\n",
    "                node = queue.popleft()\n",
    "\n",
    "                if i == level_size - 1:\n",
    "                    result.append(node.val)\n",
    "\n",
    "                if node.left:\n",
    "                    queue.append(node.left)\n",
    "                if node.right:\n",
    "                    queue.append(node.right)\n",
    "\n",
    "        return result\n"
   ]
  }
 ],
 "metadata": {
  "language_info": {
   "name": "python"
  },
  "orig_nbformat": 4
 },
 "nbformat": 4,
 "nbformat_minor": 2
}
