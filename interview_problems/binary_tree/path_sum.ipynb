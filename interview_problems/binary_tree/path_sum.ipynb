{
 "cells": [
  {
   "attachments": {},
   "cell_type": "markdown",
   "metadata": {},
   "source": [
    "# Path Sum (easy)\n",
    "\n",
    "Given the root of a binary tree and an integer targetSum, return true if the tree has a root-to-leaf path such that adding up all the values along the path equals targetSum.\n",
    "\n",
    "A leaf is a node with no children.\n",
    "\n",
    "Example 1:\n",
    "\n",
    "Input: root = [5,4,8,11,null,13,4,7,2,null,null,null,1], targetSum = 22\n",
    "Output: true\n",
    "Explanation: The root-to-leaf path with the target sum is shown.\n",
    "\n",
    "Example 2:\n",
    "\n",
    "Input: root = [1,2,3], targetSum = 5\n",
    "Output: false\n",
    "Explanation: There two root-to-leaf paths in the tree:\n",
    "(1 --> 2): The sum is 3.\n",
    "(1 --> 3): The sum is 4.\n",
    "There is no root-to-leaf path with sum = 5.\n",
    "\n",
    "Example 3:\n",
    "\n",
    "Input: root = [], targetSum = 0\n",
    "Output: false\n",
    "Explanation: Since the tree is empty, there are no root-to-leaf paths."
   ]
  },
  {
   "cell_type": "code",
   "execution_count": 2,
   "metadata": {},
   "outputs": [],
   "source": [
    "# To solve this problem, we can traverse the binary tree in a depth-first manner and keep track of the current sum as\n",
    "# we traverse. If we reach a leaf node, we check if the current sum is equal to the target sum. If it is, we return true.\n",
    "# Otherwise, we return false.\n",
    "# The time complexity of this algorithm is O(n), where n is the number of nodes in the tree, since we\n",
    "# visit each node exactly once. The space complexity is also O(n).\n",
    "\n",
    "from typing import Optional\n",
    "\n",
    "class TreeNode:\n",
    "    def __init__(self, val=0, left=None, right=None):\n",
    "        self.val = val\n",
    "        self.left = left\n",
    "        self.right = right\n",
    "\n",
    "class Solution:\n",
    "    def hasPathSum(self, root: Optional[TreeNode], targetSum: int) -> bool:\n",
    "        if not root:\n",
    "            return False\n",
    "        \n",
    "        stack = [(root, root.val)]\n",
    "        while stack:\n",
    "            node, sum = stack.pop()\n",
    "            if not node.left and not node.right and sum == targetSum:\n",
    "                return True\n",
    "            if node.right:\n",
    "                stack.append((node.right, sum + node.right.val))\n",
    "            if node.left:\n",
    "                stack.append((node.left, sum + node.left.val))\n",
    "\n",
    "        return False\n"
   ]
  },
  {
   "cell_type": "code",
   "execution_count": 4,
   "metadata": {},
   "outputs": [
    {
     "name": "stdout",
     "output_type": "stream",
     "text": [
      "There is a path with the target sum.\n"
     ]
    }
   ],
   "source": [
    "# Example usage\n",
    "# Create the binary tree\n",
    "root = TreeNode(1)\n",
    "root.left = TreeNode(2)\n",
    "root.right = TreeNode(5)\n",
    "root.left.left = TreeNode(3)\n",
    "root.left.right = TreeNode(4)\n",
    "root.right.right = TreeNode(6)\n",
    "\n",
    "target_sum = 7\n",
    "\n",
    "# Create an instance of the Solution class\n",
    "solution = Solution()\n",
    "\n",
    "# Call the hasPathSum method to check if there is a path with the target sum\n",
    "has_path = solution.hasPathSum(root, target_sum)\n",
    "\n",
    "# Print the result\n",
    "if has_path:\n",
    "    print(\"There is a path with the target sum.\")\n",
    "else:\n",
    "    print(\"There is no path with the target sum.\")"
   ]
  }
 ],
 "metadata": {
  "kernelspec": {
   "display_name": "venv",
   "language": "python",
   "name": "python3"
  },
  "language_info": {
   "codemirror_mode": {
    "name": "ipython",
    "version": 3
   },
   "file_extension": ".py",
   "mimetype": "text/x-python",
   "name": "python",
   "nbconvert_exporter": "python",
   "pygments_lexer": "ipython3",
   "version": "3.11.2"
  },
  "orig_nbformat": 4,
  "vscode": {
   "interpreter": {
    "hash": "5aa9d9cfaefd52d9eee0e4decc26aff1d3ddaa6ecc236e5a9a4e808ebd9cabf2"
   }
  }
 },
 "nbformat": 4,
 "nbformat_minor": 2
}
