{
 "cells": [
  {
   "attachments": {},
   "cell_type": "markdown",
   "metadata": {},
   "source": [
    "# Average of Levels in Binary Tree ( easy )\n",
    "\n",
    "Given the root of a binary tree, return the average value of the nodes on each level in the form of an array. Answers within 10-5 of the actual answer will be accepted.\n",
    " \n",
    "Example 1:\n",
    "\n",
    "<img src = 'avg1-tree.jpeg' alt = 'avg1' width = '200'>\n",
    "\n",
    "- Input: root = [3,9,20,null,null,15,7]\n",
    "- Output: [3.00000,14.50000,11.00000]\n",
    "- Explanation: The average value of nodes on level 0 is 3, on level 1 is 14.5, and on level 2 is 11.\n",
    "- Hence return [3, 14.5, 11].\n",
    "\n",
    "Example 2:\n",
    "\n",
    "- Input: root = [3,9,20,15,7]\n",
    "- Output: [3.00000,14.50000,11.00000]"
   ]
  }
 ],
 "metadata": {
  "language_info": {
   "name": "python"
  },
  "orig_nbformat": 4
 },
 "nbformat": 4,
 "nbformat_minor": 2
}
