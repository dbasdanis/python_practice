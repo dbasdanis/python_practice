{
 "cells": [
  {
   "attachments": {},
   "cell_type": "markdown",
   "metadata": {},
   "source": [
    "# Binary Tree Maximum Path Sum (hard)\n",
    "\n",
    "A path in a binary tree is a sequence of nodes where each pair of adjacent nodes in the sequence has an edge connecting them. A node can only appear in the sequence at most once. Note that the path does not need to pass through the root.\n",
    "\n",
    "The path sum of a path is the sum of the node's values in the path.\n",
    "\n",
    "Given the root of a binary tree, return the maximum path sum of any non-empty path.\n",
    "\n",
    "Example 1:\n",
    "\n",
    "Input: root = [1,2,3]\n",
    "Output: 6\n",
    "Explanation: The optimal path is 2 -> 1 -> 3 with a path sum of 2 + 1 + 3 = 6.\n",
    "\n",
    "Example 2:\n",
    "\n",
    "Input: root = [-10,9,20,null,null,15,7]\n",
    "Output: 42\n",
    "Explanation: The optimal path is 15 -> 20 -> 7 with a path sum of 15 + 20 + 7 = 42."
   ]
  }
 ],
 "metadata": {
  "language_info": {
   "name": "python"
  },
  "orig_nbformat": 4
 },
 "nbformat": 4,
 "nbformat_minor": 2
}
