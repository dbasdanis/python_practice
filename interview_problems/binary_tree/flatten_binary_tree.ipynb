{
 "cells": [
  {
   "attachments": {},
   "cell_type": "markdown",
   "metadata": {},
   "source": [
    "# Flatten Binary Tree to Linked List\n",
    "\n",
    "Given the root of a binary tree, flatten the tree into a \"linked list\":\n",
    "\n",
    "- The \"linked list\" should use the same TreeNode class where the right child pointer points to the next node in the list and the left child pointer is always null.\n",
    "- The \"linked list\" should be in the same order as a pre-order traversal of the binary tree.\n",
    " \n",
    "\n",
    "Example 1:\n",
    "\n",
    "<img src = 'flaten.jpeg' alt = 'Flatten' width = '400'>\n",
    "\n",
    "Input: root = [1,2,5,3,4,null,6]\n",
    "Output: [1,null,2,null,3,null,4,null,5,null,6]\n",
    "\n",
    "Example 2:\n",
    "\n",
    "Input: root = []\n",
    "Output: []\n",
    "\n",
    "Example 3:\n",
    "\n",
    "Input: root = [0]\n",
    "Output: [0]"
   ]
  },
  {
   "cell_type": "code",
   "execution_count": 1,
   "metadata": {},
   "outputs": [],
   "source": [
    "class TreeNode:\n",
    "    def __init__(self, val=0, left=None, right=None):\n",
    "        self.val = val\n",
    "        self.left = left\n",
    "        self.right = right\n",
    "\n",
    "class Solution:\n",
    "    def flatten(self, root:TreeNode) -> None:\n",
    "        if not root:\n",
    "            return None\n",
    "        \n",
    "        # Traverse left subtree\n",
    "        left = self.flatten(root.left)\n",
    "\n",
    "        # Traverse right subtree\n",
    "        right = self.flatten(root.right)\n",
    "\n",
    "        # Connect left and right subtree\n",
    "        root.left = None\n",
    "        root.right = left\n",
    "\n",
    "        # Traverse the leftmost node of the right subtree\n",
    "        while root.right:\n",
    "            root = root.right\n",
    "\n",
    "        # connect the rihtmost node of the left subtree to the rightmost node of the right subtree\n",
    "        root.right = right\n",
    "\n",
    "        return root"
   ]
  },
  {
   "cell_type": "code",
   "execution_count": 2,
   "metadata": {},
   "outputs": [],
   "source": [
    "root = TreeNode(1, TreeNode(2, TreeNode(5), TreeNode(3)), TreeNode(4, None, TreeNode(6)))\n",
    "s = Solution()\n",
    "flattened = s.flatten(root)"
   ]
  }
 ],
 "metadata": {
  "kernelspec": {
   "display_name": "venv",
   "language": "python",
   "name": "python3"
  },
  "language_info": {
   "codemirror_mode": {
    "name": "ipython",
    "version": 3
   },
   "file_extension": ".py",
   "mimetype": "text/x-python",
   "name": "python",
   "nbconvert_exporter": "python",
   "pygments_lexer": "ipython3",
   "version": "3.11.2"
  },
  "orig_nbformat": 4,
  "vscode": {
   "interpreter": {
    "hash": "5aa9d9cfaefd52d9eee0e4decc26aff1d3ddaa6ecc236e5a9a4e808ebd9cabf2"
   }
  }
 },
 "nbformat": 4,
 "nbformat_minor": 2
}
