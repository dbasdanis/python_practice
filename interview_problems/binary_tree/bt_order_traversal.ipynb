{
 "cells": [
  {
   "attachments": {},
   "cell_type": "markdown",
   "metadata": {},
   "source": [
    "# Binary Tree Level Order Traversal (medium)\n",
    "\n",
    "Given the root of a binary tree, return the level order traversal of its nodes' values. (i.e., from left to right, level by level).\n",
    "\n",
    "Example 1:\n",
    "\n",
    "```python\n",
    "#   3\n",
    "#  / \\\n",
    "# 9   20\n",
    "#     / \\\n",
    "#    15  7\n",
    "Input: root = [3,9,20,null,null,15,7]\n",
    "Output: [[3],[9,20],[15,7]]\n",
    "```\n",
    "Example 2:\n",
    "```python\n",
    "Input: root = [1]\n",
    "Output: [[1]]\n",
    "```\n",
    "Example 3:\n",
    "```python\n",
    "Input: root = []\n",
    "Output: []\n",
    "```"
   ]
  }
 ],
 "metadata": {
  "language_info": {
   "name": "python"
  },
  "orig_nbformat": 4
 },
 "nbformat": 4,
 "nbformat_minor": 2
}
