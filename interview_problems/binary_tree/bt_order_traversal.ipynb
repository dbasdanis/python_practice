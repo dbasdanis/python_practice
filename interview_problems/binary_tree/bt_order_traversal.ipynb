{
 "cells": [
  {
   "attachments": {},
   "cell_type": "markdown",
   "metadata": {},
   "source": [
    "# Binary Tree Level Order Traversal (medium)\n",
    "\n",
    "Given the root of a binary tree, return the level order traversal of its nodes' values. (i.e., from left to right, level by level).\n",
    "\n",
    "Example 1:\n",
    "\n",
    "```python\n",
    "#   3\n",
    "#  / \\\n",
    "# 9   20\n",
    "#     / \\\n",
    "#    15  7\n",
    "Input: root = [3,9,20,null,null,15,7]\n",
    "Output: [[3],[9,20],[15,7]]\n",
    "```\n",
    "Example 2:\n",
    "```python\n",
    "Input: root = [1]\n",
    "Output: [[1]]\n",
    "```\n",
    "Example 3:\n",
    "```python\n",
    "Input: root = []\n",
    "Output: []\n",
    "```"
   ]
  },
  {
   "cell_type": "code",
   "execution_count": 1,
   "metadata": {},
   "outputs": [
    {
     "name": "stdout",
     "output_type": "stream",
     "text": [
      "[[3], [9, 20], [15, 7]]\n"
     ]
    }
   ],
   "source": [
    "# Definition for a binary tree node.\n",
    "from typing import Optional,List\n",
    "class TreeNode:\n",
    "    def __init__(self, val=0, left=None, right=None):\n",
    "        self.val = val\n",
    "        self.left = left\n",
    "        self.right = right\n",
    "class Solution:\n",
    "    def levelOrder(self, root: Optional[TreeNode]) -> List[List[int]]:\n",
    "        if not root:\n",
    "            return []\n",
    "        \n",
    "        result = []\n",
    "        queue = [root]\n",
    "\n",
    "        while queue:\n",
    "            level_size = len(queue)\n",
    "            current_level = []\n",
    "\n",
    "            for _ in range(level_size):\n",
    "                node = queue.pop(0)\n",
    "                current_level.append(node.val)\n",
    "\n",
    "                if node.left:\n",
    "                    queue.append(node.left)\n",
    "                if node.right:\n",
    "                    queue.append(node.right)\n",
    "\n",
    "            result.append(current_level)\n",
    "        return result\n",
    "    \n",
    "root = TreeNode(3)\n",
    "root.left = TreeNode(9)\n",
    "root.right = TreeNode(20)\n",
    "root.right.left = TreeNode(15)\n",
    "root.right.right = TreeNode(7)\n",
    "\n",
    "solution = Solution()\n",
    "print(solution.levelOrder(root))"
   ]
  }
 ],
 "metadata": {
  "kernelspec": {
   "display_name": "venv",
   "language": "python",
   "name": "python3"
  },
  "language_info": {
   "codemirror_mode": {
    "name": "ipython",
    "version": 3
   },
   "file_extension": ".py",
   "mimetype": "text/x-python",
   "name": "python",
   "nbconvert_exporter": "python",
   "pygments_lexer": "ipython3",
   "version": "3.11.2"
  },
  "orig_nbformat": 4,
  "vscode": {
   "interpreter": {
    "hash": "5aa9d9cfaefd52d9eee0e4decc26aff1d3ddaa6ecc236e5a9a4e808ebd9cabf2"
   }
  }
 },
 "nbformat": 4,
 "nbformat_minor": 2
}
