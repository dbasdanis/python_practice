{
 "cells": [
  {
   "attachments": {},
   "cell_type": "markdown",
   "metadata": {},
   "source": [
    "# Sum Root to Leaf Numbers (medium)\n",
    "\n",
    "You are given the root of a binary tree containing digits from 0 to 9 only.\n",
    "\n",
    "Each root-to-leaf path in the tree represents a number.\n",
    "\n",
    "For example, the root-to-leaf path 1 -> 2 -> 3 represents the number 123.\n",
    "Return the total sum of all root-to-leaf numbers. Test cases are generated so that the answer will fit in a 32-bit integer.\n",
    "\n",
    "A leaf node is a node with no children.\n",
    "\n",
    "Example 1:\n",
    "\n",
    "Input: root = [1,2,3]\n",
    "Output: 25\n",
    "- Explanation:\n",
    "    - The root-to-leaf path 1->2 represents the number 12.\n",
    "    - The root-to-leaf path 1->3 represents the number 13.\n",
    "    - Therefore, sum = 12 + 13 = 25.\n",
    "\n",
    "Example 2:\n",
    "\n",
    "Input: root = [4,9,0,5,1]\n",
    "Output: 1026\n",
    "- Explanation:\n",
    "    - The root-to-leaf path 4->9->5 represents the number 495.\n",
    "    - The root-to-leaf path 4->9->1 represents the number 491.\n",
    "    - The root-to-leaf path 4->0 represents the number 40.\n",
    "    - Therefore, sum = 495 + 491 + 40 = 1026."
   ]
  },
  {
   "cell_type": "code",
   "execution_count": 1,
   "metadata": {},
   "outputs": [
    {
     "name": "stdout",
     "output_type": "stream",
     "text": [
      "25\n"
     ]
    }
   ],
   "source": [
    "class TreeNode:\n",
    "    def __init__(self, val=0, left=None, right=None):\n",
    "        self.val=val\n",
    "        self.left = left\n",
    "        self.right = right\n",
    "\n",
    "class Solution:\n",
    "    def sumNumbers(self, root):\n",
    "        if not root:\n",
    "            return 0\n",
    "\n",
    "        total_sum = 0\n",
    "        stack = [(root, root.val)]\n",
    "\n",
    "        while stack:\n",
    "            node, current_sum = stack.pop()\n",
    "\n",
    "            if not node.left and not node.right:\n",
    "                total_sum += current_sum\n",
    "                continue\n",
    "\n",
    "            current_sum = current_sum * 10\n",
    "\n",
    "            if node.right:\n",
    "                stack.append((node.right, current_sum + node.right.val))\n",
    "            if node.left:\n",
    "                stack.append((node.left, current_sum + node.left.val))\n",
    "\n",
    "        return total_sum\n",
    "\n",
    "# Example usage:\n",
    "root = TreeNode(1)\n",
    "root.left = TreeNode(2)\n",
    "root.right = TreeNode(3)\n",
    "s = Solution()\n",
    "print(s.sumNumbers(root))            "
   ]
  }
 ],
 "metadata": {
  "kernelspec": {
   "display_name": "venv",
   "language": "python",
   "name": "python3"
  },
  "language_info": {
   "codemirror_mode": {
    "name": "ipython",
    "version": 3
   },
   "file_extension": ".py",
   "mimetype": "text/x-python",
   "name": "python",
   "nbconvert_exporter": "python",
   "pygments_lexer": "ipython3",
   "version": "3.11.2"
  },
  "orig_nbformat": 4,
  "vscode": {
   "interpreter": {
    "hash": "5aa9d9cfaefd52d9eee0e4decc26aff1d3ddaa6ecc236e5a9a4e808ebd9cabf2"
   }
  }
 },
 "nbformat": 4,
 "nbformat_minor": 2
}
