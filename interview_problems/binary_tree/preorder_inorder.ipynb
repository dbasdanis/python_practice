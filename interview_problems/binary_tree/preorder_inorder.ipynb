{
 "cells": [
  {
   "attachments": {},
   "cell_type": "markdown",
   "metadata": {},
   "source": [
    "# Construct Binary Tree from Preorder and Inorder Traversal (medium)"
   ]
  },
  {
   "attachments": {},
   "cell_type": "markdown",
   "metadata": {},
   "source": [
    "## Preorder\n",
    "\n",
    "Preorder traversal is a method used to traverse or visit the nodes of a binary tree. In a preorder traversal, the root node is visited first, followed by the traversal of the left subtree, and then the traversal of the right subtree. The traversal process can be summarized as :\n",
    "1. Visit the current node (root).\n",
    "2. Traverse the left subtree using preorder traversal.\n",
    "3. Traverse the right subtree using preorder traversal."
   ]
  },
  {
   "attachments": {},
   "cell_type": "markdown",
   "metadata": {},
   "source": [
    "## Inorder\n",
    "\n",
    "Inorder traversal is a method used to traverse or visit the nodes of a binary tree. In an inorder traversal, the left subtree is visited first, followed by the root node, and then the right subtree. The traversal process can be summarized as:\n",
    "\n",
    "1. Traverse the left subtree using inorder traversal.\n",
    "2. Visit the current node(root).\n",
    "3. Traverse the right subtree using inorder traversal."
   ]
  },
  {
   "attachments": {},
   "cell_type": "markdown",
   "metadata": {},
   "source": [
    "## Exercise\n",
    "\n",
    "Given two integer arrays preorder and inorder where preorder is the preorder traversal of a binary tree and inorder is the inorder traversal of the same tree, construct and return the binary tree.\n",
    "\n",
    "Example 1:\n",
    "\n",
    "Input: preorder = [3,9,20,15,7], inorder = [9,3,15,20,7]\n",
    "Output: [3,9,20,null,null,15,7]\n",
    "\n",
    "Example 2:\n",
    "\n",
    "Input: preorder = [-1], inorder = [-1]\n",
    "Output: [-1]"
   ]
  },
  {
   "attachments": {},
   "cell_type": "markdown",
   "metadata": {},
   "source": [
    "# Solution\n",
    "\n",
    "To solve this problem, we can use a recursive approach. The main idea is as follows:\n",
    "1. The first element in the preorder array is the root node of the binary tree.\n",
    "2. Find the index of the root node in the inorder array. This index divides the inorder array into the left subtree and the right subtree.\n",
    "3. Recursively buid the left subtree using the subarrays of the preorder and inorder arrays that correspond to the left subtree.\n",
    "4. Recursively build the right subtree using the subarrays of the preorder and inorder arrays that correspond to the right subtrees.\n",
    "5. Return the root node."
   ]
  },
  {
   "cell_type": "code",
   "execution_count": 2,
   "metadata": {},
   "outputs": [],
   "source": [
    "from typing import List, Optional\n",
    "class TreeNode:\n",
    "    def __init__(self, val=0, left=None, right=None):\n",
    "        self.val = val\n",
    "        self.left = left\n",
    "        self.right = right\n",
    "        \n",
    "class Solution:\n",
    "    def buildTree(self, preorder: List[int], inorder: List[int]) -> Optional[TreeNode]:\n",
    "        pass"
   ]
  }
 ],
 "metadata": {
  "kernelspec": {
   "display_name": "venv",
   "language": "python",
   "name": "python3"
  },
  "language_info": {
   "codemirror_mode": {
    "name": "ipython",
    "version": 3
   },
   "file_extension": ".py",
   "mimetype": "text/x-python",
   "name": "python",
   "nbconvert_exporter": "python",
   "pygments_lexer": "ipython3",
   "version": "3.11.2"
  },
  "orig_nbformat": 4,
  "vscode": {
   "interpreter": {
    "hash": "5aa9d9cfaefd52d9eee0e4decc26aff1d3ddaa6ecc236e5a9a4e808ebd9cabf2"
   }
  }
 },
 "nbformat": 4,
 "nbformat_minor": 2
}
