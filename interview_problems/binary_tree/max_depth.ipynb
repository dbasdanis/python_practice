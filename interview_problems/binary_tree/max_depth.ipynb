{
 "cells": [
  {
   "attachments": {},
   "cell_type": "markdown",
   "metadata": {},
   "source": [
    "# Maximum Depth of Binary Tree (easy)"
   ]
  },
  {
   "attachments": {},
   "cell_type": "markdown",
   "metadata": {},
   "source": [
    "Given the root of a binary tree, return its maximum depth.\n",
    "\n",
    "A binary tree's maximum depth is the number of nodes along the longest path from the root node down to the farthest leaf node.\n",
    "\n",
    "Example 1:\n",
    "\n",
    "Input: root = [3,9,20,null,null,15,7]\n",
    "Output: 3\n",
    "\n",
    "Example 2:\n",
    "\n",
    "Input: root = [1,null,2]\n",
    "Output: 2"
   ]
  },
  {
   "cell_type": "code",
   "execution_count": null,
   "metadata": {},
   "outputs": [],
   "source": [
    "class TreeNode:\n",
    "    def __init__(self, val=0, left=None, right=None):\n",
    "        self.val = val\n",
    "        self.left = left\n",
    "        self.right = right\n",
    "\n",
    "class Solution:\n",
    "    def maxDepth(self, root) -> int:\n",
    "        pass\n",
    "\n",
    "solution = Solution()\n",
    "root = [3,9,20,None,None,15,7]\n",
    "print(solution.maxDepth(root))"
   ]
  }
 ],
 "metadata": {
  "language_info": {
   "name": "python"
  },
  "orig_nbformat": 4
 },
 "nbformat": 4,
 "nbformat_minor": 2
}
