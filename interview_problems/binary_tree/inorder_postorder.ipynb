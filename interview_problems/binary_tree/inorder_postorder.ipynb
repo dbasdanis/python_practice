{
 "cells": [
  {
   "attachments": {},
   "cell_type": "markdown",
   "metadata": {},
   "source": [
    "# Construct Binary Tree from Inorder and Postorder Traversal (medium)"
   ]
  },
  {
   "attachments": {},
   "cell_type": "markdown",
   "metadata": {},
   "source": [
    "Given two integer arrays inorder and postorder where inorder is the inorder traversal of a binary tree and postorder is the postorder traversal of the same tree, construct and return the binary tree.\n",
    "\n",
    "Example 1:\n",
    "\n",
    "Input: inorder = [9,3,15,20,7], postorder = [9,15,7,20,3]\n",
    "Output: [3,9,20,null,null,15,7]\n",
    "\n",
    "Example 2:\n",
    "\n",
    "Input: inorder = [-1], postorder = [-1]\n",
    "Output: [-1]"
   ]
  },
  {
   "attachments": {},
   "cell_type": "markdown",
   "metadata": {},
   "source": [
    "## Postorder\n",
    "\n",
    "Postorder traversal is a way to traverse a binary tree. In postorder traversal, we visit the nodes in the following order: left subtree, right subtree, root.\n",
    "\n",
    "```mathematica \n",
    "      A\n",
    "     / \\\n",
    "    B   C\n",
    "   / \\   \\\n",
    "  D   E   F\n",
    "```\n",
    "The postorder traversal of this tree would be: D,E,B,F,C,A"
   ]
  },
  {
   "cell_type": "code",
   "execution_count": 1,
   "metadata": {},
   "outputs": [],
   "source": [
    "from typing import List, Optional\n",
    "class TreeNode:\n",
    "    def __init__(self, val=0, left=None, right=None):\n",
    "        self.val = val\n",
    "        self.left = left\n",
    "        self.right = right\n",
    "class Solution:\n",
    "    def buildTree(self, inorder: List[int], postorder: List[int]) -> Optional[TreeNode]:\n",
    "        # create a dictionary to store the indices of elements in inorder traversal\n",
    "        inorder_map = {val: idx for idx, val in enumerate(inorder)}\n",
    "\n",
    "        def helper(self, post_start, post_end, in_start, in_end):\n",
    "            if post_start > post_end or in_start > in_end:\n",
    "                return None\n",
    "            \n",
    "            # get the root value from the last element in the postorder traversal\n",
    "            root_val = postorder[post_end]\n",
    "            root = TreeNode(root_val)\n",
    "\n",
    "            # find the index of the root value in the inorder traversal\n",
    "            root_index = inorder_map[root_val]\n",
    "\n",
    "            # recursively build the left and right subtrees\n",
    "            left_size = root_index - in_start\n",
    "            root.left = self.helper(post_start,post_start+left_size-1, in_start,root_index-1)\n",
    "            root.right = self.helper(post_start+left_size,post_end-1,root_index+1,in_end)\n",
    "\n",
    "            return root\n",
    "        \n",
    "        # call the helper function with the initial indices\n",
    "        return self.helper(0,len(postorder)-1,0,len(inorder)-1)\n"
   ]
  }
 ],
 "metadata": {
  "kernelspec": {
   "display_name": "venv",
   "language": "python",
   "name": "python3"
  },
  "language_info": {
   "codemirror_mode": {
    "name": "ipython",
    "version": 3
   },
   "file_extension": ".py",
   "mimetype": "text/x-python",
   "name": "python",
   "nbconvert_exporter": "python",
   "pygments_lexer": "ipython3",
   "version": "3.11.2"
  },
  "orig_nbformat": 4,
  "vscode": {
   "interpreter": {
    "hash": "5aa9d9cfaefd52d9eee0e4decc26aff1d3ddaa6ecc236e5a9a4e808ebd9cabf2"
   }
  }
 },
 "nbformat": 4,
 "nbformat_minor": 2
}
