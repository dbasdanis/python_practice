{
 "cells": [
  {
   "attachments": {},
   "cell_type": "markdown",
   "metadata": {},
   "source": [
    "# Binary Search Tree Iterator (medium)\n",
    "\n",
    "Implement the BSTIterator class that represents an iterator over the in-order traversal of a binary search tree (BST):\n",
    "\n",
    "BSTIterator(TreeNode root) Initializes an object of the BSTIterator class. The root of the BST is given as part of the constructor. The pointer should be initialized to a non-existent number smaller than any element in the BST.\n",
    "boolean hasNext() Returns true if there exists a number in the traversal to the right of the pointer, otherwise returns false.\n",
    "int next() Moves the pointer to the right, then returns the number at the pointer.\n",
    "Notice that by initializing the pointer to a non-existent smallest number, the first call to next() will return the smallest element in the BST.\n",
    "\n",
    "You may assume that next() calls will always be valid. That is, there will be at least a next number in the in-order traversal when next() is called.\n",
    "\n",
    "Example 1:\n",
    "\n",
    "<img src='bst-tree.png' alt='bst' width='200'>\n",
    "\n",
    "Input\n",
    "- [\"BSTIterator\", \"next\", \"next\", \"hasNext\", \"next\", \"hasNext\", \"next\", \"hasNext\", \"next\", \"hasNext\"]\n",
    "- [[[7, 3, 15, null, null, 9, 20]], [], [], [], [], [], [], [], [], []]\n",
    "- Output\n",
    "- [null, 3, 7, true, 9, true, 15, true, 20, false]\n",
    "\n",
    "Explanation\n",
    "- BSTIterator bSTIterator = new BSTIterator([7, 3, 15, null, null, 9, 20]);\n",
    "- bSTIterator.next();    // return 3\n",
    "- bSTIterator.next();    // return 7\n",
    "- bSTIterator.hasNext(); // return True\n",
    "- bSTIterator.next();    // return 9\n",
    "- bSTIterator.hasNext(); // return True\n",
    "- bSTIterator.next();    // return 15\n",
    "- bSTIterator.hasNext(); // return True"
   ]
  },
  {
   "cell_type": "code",
   "execution_count": 1,
   "metadata": {},
   "outputs": [
    {
     "name": "stdout",
     "output_type": "stream",
     "text": [
      "3\n",
      "7\n",
      "True\n",
      "9\n",
      "True\n",
      "15\n",
      "True\n"
     ]
    }
   ],
   "source": [
    "class TreeNode:\n",
    "    def __init__(self, val=0, left=None, right=None):\n",
    "        self.val = val\n",
    "        self.left = left\n",
    "        self.right = right\n",
    "\n",
    "\n",
    "class BSTIterator:\n",
    "    def __init__(self, root: TreeNode):\n",
    "        self.stack = []\n",
    "        self._leftmost_inorder(root)\n",
    "\n",
    "    # the '_leftmost_inorder' helper function is used to push the leftmost nodes onto the stack,\n",
    "    # ensuring that the smallest element is at the top of the stack\n",
    "    def _leftmost_inorder(self, node):\n",
    "        while node:\n",
    "            self.stack.append(node)\n",
    "            node = node.left\n",
    "\n",
    "    # the next method pops the topmost node from the stack and returns its value.\n",
    "    def next(self) -> int:\n",
    "        topmost_node = self.stack.pop()\n",
    "        \n",
    "        if topmost_node.right:\n",
    "            self._leftmost_inorder(topmost_node.right)\n",
    "        \n",
    "        return topmost_node.val\n",
    "\n",
    "    def hasNext(self) -> bool:\n",
    "        return len(self.stack) > 0\n",
    "\n",
    "\n",
    "# Example usage:\n",
    "root = TreeNode(7)\n",
    "root.left = TreeNode(3)\n",
    "root.right = TreeNode(15)\n",
    "root.right.left = TreeNode(9)\n",
    "root.right.right = TreeNode(20)\n",
    "\n",
    "bst_iterator = BSTIterator(root)\n",
    "print(bst_iterator.next())     # Output: 3\n",
    "print(bst_iterator.next())     # Output: 7\n",
    "print(bst_iterator.hasNext())  # Output: True\n",
    "print(bst_iterator.next())     # Output: 9\n",
    "print(bst_iterator.hasNext())  # Output: True\n",
    "print(bst_iterator.next())     # Output: 15\n",
    "print(bst_iterator.hasNext())  # Output: True\n"
   ]
  }
 ],
 "metadata": {
  "kernelspec": {
   "display_name": "venv",
   "language": "python",
   "name": "python3"
  },
  "language_info": {
   "codemirror_mode": {
    "name": "ipython",
    "version": 3
   },
   "file_extension": ".py",
   "mimetype": "text/x-python",
   "name": "python",
   "nbconvert_exporter": "python",
   "pygments_lexer": "ipython3",
   "version": "3.11.2"
  },
  "orig_nbformat": 4,
  "vscode": {
   "interpreter": {
    "hash": "5aa9d9cfaefd52d9eee0e4decc26aff1d3ddaa6ecc236e5a9a4e808ebd9cabf2"
   }
  }
 },
 "nbformat": 4,
 "nbformat_minor": 2
}
