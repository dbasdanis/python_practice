{
 "cells": [
  {
   "attachments": {},
   "cell_type": "markdown",
   "metadata": {},
   "source": [
    "# Binary Tree Right Side View (medium)\n",
    "\n",
    "Given the root of a binary tree, imagine yourself standing on the right side of it, return the values of the nodes you can see ordered from top to bottom.\n",
    "\n",
    "Example 1:\n",
    "\n",
    "<img src = 'tree.jpeg' alt = 'tree' width = '200'>\n",
    "\n",
    "- Input: root = [1,2,3,null,5,null,4]\n",
    "- Output: [1,3,4]\n",
    "\n",
    "Example 2:\n",
    "\n",
    "- Input: root = [1,null,3]\n",
    "- Output: [1,3]\n",
    "\n",
    "Example 3:\n",
    "\n",
    "- Input: root = []\n",
    "- Output: []"
   ]
  },
  {
   "cell_type": "code",
   "execution_count": 2,
   "metadata": {},
   "outputs": [],
   "source": [
    "from typing import List, Optional\n",
    "from collections import deque\n",
    "\n",
    "# Definition for a binary tree node.\n",
    "class TreeNode:\n",
    "    def __init__(self, val=0, left=None, right=None):\n",
    "        self.val = val\n",
    "        self.left = left\n",
    "        self.right = right\n",
    "\n",
    "class Solution:\n",
    "    def rightSideView(self, root: Optional[TreeNode]) -> List[int]:\n",
    "        if not root:\n",
    "            return []\n",
    "\n",
    "        result = []\n",
    "        queue = deque([root])\n",
    "\n",
    "        while queue:\n",
    "            level_size = len(queue)\n",
    "\n",
    "            for i in range(level_size):\n",
    "                node = queue.popleft()\n",
    "\n",
    "                if i == level_size - 1:\n",
    "                    result.append(node.val)\n",
    "\n",
    "                if node.left:\n",
    "                    queue.append(node.left)\n",
    "                if node.right:\n",
    "                    queue.append(node.right)\n",
    "\n",
    "        return result\n"
   ]
  },
  {
   "cell_type": "code",
   "execution_count": 3,
   "metadata": {},
   "outputs": [
    {
     "name": "stdout",
     "output_type": "stream",
     "text": [
      "[1, 3, 4]\n"
     ]
    }
   ],
   "source": [
    "# Create the tree from the example\n",
    "root = TreeNode(1)\n",
    "root.left = TreeNode(2)\n",
    "root.right = TreeNode(3)\n",
    "root.left.right = TreeNode(5)\n",
    "root.right.right = TreeNode(4)\n",
    "\n",
    "# Tree structure:\n",
    "#       1        <-- Level 0\n",
    "#     /   \\\n",
    "#    2     3     <-- Level 1\n",
    "#     \\     \\\n",
    "#      5     4   <-- Level 2\n",
    "\n",
    "# Create an instance of the Solution class\n",
    "solution = Solution()\n",
    "\n",
    "# Call the rightSideView() method\n",
    "result = solution.rightSideView(root)\n",
    "\n",
    "# Print the result\n",
    "print(result)\n"
   ]
  }
 ],
 "metadata": {
  "kernelspec": {
   "display_name": "venv",
   "language": "python",
   "name": "python3"
  },
  "language_info": {
   "codemirror_mode": {
    "name": "ipython",
    "version": 3
   },
   "file_extension": ".py",
   "mimetype": "text/x-python",
   "name": "python",
   "nbconvert_exporter": "python",
   "pygments_lexer": "ipython3",
   "version": "3.11.2"
  },
  "orig_nbformat": 4,
  "vscode": {
   "interpreter": {
    "hash": "5aa9d9cfaefd52d9eee0e4decc26aff1d3ddaa6ecc236e5a9a4e808ebd9cabf2"
   }
  }
 },
 "nbformat": 4,
 "nbformat_minor": 2
}
