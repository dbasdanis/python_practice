{
 "cells": [
  {
   "attachments": {},
   "cell_type": "markdown",
   "metadata": {},
   "source": [
    "# Invert Binary Tree (easy)"
   ]
  },
  {
   "attachments": {},
   "cell_type": "markdown",
   "metadata": {},
   "source": [
    "Given the root of a binary tree, invert the tree, and return its root.\n",
    "\n",
    "Example 1:\n",
    "\n",
    "Input: root = [4,2,7,1,3,6,9]\n",
    "Output: [4,7,2,9,6,3,1]\n",
    "\n",
    "Example 2:\n",
    "\n",
    "Input: root = [2,1,3]\n",
    "Output: [2,3,1]\n",
    "\n",
    "Example 3:\n",
    "\n",
    "Input: root = []\n",
    "Output: []"
   ]
  },
  {
   "cell_type": "code",
   "execution_count": 2,
   "metadata": {},
   "outputs": [],
   "source": [
    "# To invert a binary tree, we can perform a recursive swap of the left and right\n",
    "# subtrees for each node.\n",
    "class TreeNode:\n",
    "    def __init__(self, val=0, left=None, right=None):\n",
    "        self.val = val\n",
    "        self.left = left\n",
    "        self.right = right\n",
    "\n",
    "def invert_tree(root):\n",
    "    if not root:\n",
    "        return None\n",
    "    \n",
    "    # swap the left and the right subtrees\n",
    "    root.left, root.right = root.right, root.left\n",
    "\n",
    "    # recursively invert the left and right subtrees\n",
    "    invert_tree(root.left)\n",
    "    invert_tree(root.right)\n",
    "\n",
    "    return root"
   ]
  },
  {
   "cell_type": "code",
   "execution_count": 6,
   "metadata": {},
   "outputs": [],
   "source": [
    "# Example 1\n",
    "root = TreeNode(4, TreeNode(2, TreeNode(1), TreeNode(3)), TreeNode(7, TreeNode(6), TreeNode(9)))\n",
    "inverted_root = invert_tree(root)\n",
    "# Output: [4,7,2,9,6,3,1]\n",
    "\n",
    "# Example 2\n",
    "root = TreeNode(2, TreeNode(1), TreeNode(3))\n",
    "inverted_root = invert_tree(root)\n",
    "# Output: [2,3,1]\n",
    "\n",
    "# Example 3\n",
    "root = None\n",
    "inverted_root = invert_tree(root)\n",
    "# Output: []"
   ]
  }
 ],
 "metadata": {
  "kernelspec": {
   "display_name": "venv",
   "language": "python",
   "name": "python3"
  },
  "language_info": {
   "codemirror_mode": {
    "name": "ipython",
    "version": 3
   },
   "file_extension": ".py",
   "mimetype": "text/x-python",
   "name": "python",
   "nbconvert_exporter": "python",
   "pygments_lexer": "ipython3",
   "version": "3.11.2"
  },
  "orig_nbformat": 4,
  "vscode": {
   "interpreter": {
    "hash": "5aa9d9cfaefd52d9eee0e4decc26aff1d3ddaa6ecc236e5a9a4e808ebd9cabf2"
   }
  }
 },
 "nbformat": 4,
 "nbformat_minor": 2
}
