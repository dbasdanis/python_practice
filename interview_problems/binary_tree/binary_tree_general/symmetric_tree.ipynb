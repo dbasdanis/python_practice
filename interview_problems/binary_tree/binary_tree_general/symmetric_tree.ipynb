{
 "cells": [
  {
   "attachments": {},
   "cell_type": "markdown",
   "metadata": {},
   "source": [
    "# Symmetric Tree (easy)"
   ]
  },
  {
   "attachments": {},
   "cell_type": "markdown",
   "metadata": {},
   "source": [
    "Given the root of a binary tree, check whether it is a mirror of itself (i.e., symmetric around its center).\n",
    "\n",
    "Example 1:\n",
    "\n",
    "Input: root = [1,2,2,3,4,4,3]\n",
    "Output: true\n",
    "\n",
    "Example 2:\n",
    "\n",
    "Input: root = [1,2,2,null,3,null,3]\n",
    "Output: false"
   ]
  },
  {
   "cell_type": "code",
   "execution_count": 1,
   "metadata": {},
   "outputs": [],
   "source": [
    "class TreeNode:\n",
    "    def __init__(self, val=0, left=None, right=None):\n",
    "        self.val = val\n",
    "        self.left = left\n",
    "        self.right = right\n",
    "\n",
    "def isSymmetric(root):\n",
    "    if not root:\n",
    "        return True\n",
    "    \n",
    "    return checkSymmetry(root.left, root.right)\n",
    "\n",
    "def checkSymmetry(left, right):\n",
    "    if not left and not right:\n",
    "        return True\n",
    "    \n",
    "    if not left or not right or left.val != right.val:\n",
    "        return False\n",
    "    \n",
    "    # recursively check the symmetry of the left and the right subtrees\n",
    "    return checkSymmetry(left.left, right.right) and checkSymmetry(left.right, right.left)"
   ]
  },
  {
   "cell_type": "code",
   "execution_count": 3,
   "metadata": {},
   "outputs": [
    {
     "name": "stdout",
     "output_type": "stream",
     "text": [
      "True\n",
      "False\n"
     ]
    }
   ],
   "source": [
    "# Example 1\n",
    "root = TreeNode(1, TreeNode(2, TreeNode(3), TreeNode(4)), TreeNode(2, TreeNode(4), TreeNode(3)))\n",
    "print(isSymmetric(root))\n",
    "\n",
    "# Example 2\n",
    "root = TreeNode(1, TreeNode(2, None, TreeNode(3)), TreeNode(2, None, TreeNode(3)))\n",
    "print(isSymmetric(root))\n"
   ]
  }
 ],
 "metadata": {
  "kernelspec": {
   "display_name": "venv",
   "language": "python",
   "name": "python3"
  },
  "language_info": {
   "codemirror_mode": {
    "name": "ipython",
    "version": 3
   },
   "file_extension": ".py",
   "mimetype": "text/x-python",
   "name": "python",
   "nbconvert_exporter": "python",
   "pygments_lexer": "ipython3",
   "version": "3.11.2"
  },
  "orig_nbformat": 4,
  "vscode": {
   "interpreter": {
    "hash": "5aa9d9cfaefd52d9eee0e4decc26aff1d3ddaa6ecc236e5a9a4e808ebd9cabf2"
   }
  }
 },
 "nbformat": 4,
 "nbformat_minor": 2
}
