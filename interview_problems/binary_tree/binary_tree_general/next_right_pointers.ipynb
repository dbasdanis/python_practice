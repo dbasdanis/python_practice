{
 "cells": [
  {
   "attachments": {},
   "cell_type": "markdown",
   "metadata": {},
   "source": [
    "# Populating Next Right Pointers in Each Node II (medium)"
   ]
  },
  {
   "attachments": {},
   "cell_type": "markdown",
   "metadata": {},
   "source": [
    "Given a binary tree\n",
    "\n",
    "struct Node {\n",
    "  int val;\n",
    "  Node *left;\n",
    "  Node *right;\n",
    "  Node *next;\n",
    "}\n",
    "Populate each next pointer to point to its next right node. If there is no next right node, the next pointer should be set to NULL.\n",
    "\n",
    "Initially, all next pointers are set to NULL.\n",
    "\n",
    "<img src = '117_sample.png' alt = 'right_pointer' width = '500'>\n",
    "\n",
    "```c\n",
    "Example 1:\n",
    "\n",
    "Input: root = [1,2,3,4,5,null,7]\n",
    "Output: [1,#,2,3,#,4,5,7,#]\n",
    "Explanation: Given the above binary tree (Figure A), your function should populate each next pointer to point to its next right node, just like in Figure B. The serialized output is in level order as connected by the next pointers, with '#' signifying the end of each level.\n",
    "\n",
    "Example 2:\n",
    "\n",
    "Input: root = []\n",
    "Output: []"
   ]
  },
  {
   "attachments": {},
   "cell_type": "markdown",
   "metadata": {},
   "source": [
    "### Solution Explanation\n",
    "The idea is to use the breadth-first-search (BFS) approach to traverse the tree level by level. We start with the root node and add it to a queue. Then, we loop through the queue and process each node in the order they ere added. For each node, we check if it has a left child and a right child. If it does, we set its next pointer to the next node in the queue. If it doesn't, we set its next pointer to None. Then, we add its left and right children to the queue if they exist.\n",
    "\n",
    "The time complexity of this solution is O(n), where n is the number of nodes in the tree, since we visit each node exactly once. The space complexity is also O(n), since we store all nodes in the queue."
   ]
  },
  {
   "cell_type": "code",
   "execution_count": null,
   "metadata": {},
   "outputs": [],
   "source": [
    "class Node:\n",
    "    def __init__(self, val=0, left=None, right=None, next=None):\n",
    "        self.val = val\n",
    "        self.left = left\n",
    "        self.right = right\n",
    "        self.next = next\n",
    "\n",
    "class Solution:\n",
    "    def connect(self, root):\n",
    "        if not root:\n",
    "            return root\n",
    "\n",
    "        queue = [root]\n",
    "\n",
    "        while queue:\n",
    "            size = len(queue)\n",
    "\n",
    "            for i in range(size):\n",
    "                node = queue.pop(0)\n",
    "                if i < size - 1:\n",
    "                    node.next = queue[0]\n",
    "                if node.left:\n",
    "                    queue.append(node.left)\n",
    "                if node.right:\n",
    "                    queue.append(node.right)\n",
    "\n",
    "        return root"
   ]
  }
 ],
 "metadata": {
  "kernelspec": {
   "display_name": "venv",
   "language": "python",
   "name": "python3"
  },
  "language_info": {
   "name": "python",
   "version": "3.11.2 (v3.11.2:878ead1ac1, Feb  7 2023, 10:02:41) [Clang 13.0.0 (clang-1300.0.29.30)]"
  },
  "orig_nbformat": 4,
  "vscode": {
   "interpreter": {
    "hash": "5aa9d9cfaefd52d9eee0e4decc26aff1d3ddaa6ecc236e5a9a4e808ebd9cabf2"
   }
  }
 },
 "nbformat": 4,
 "nbformat_minor": 2
}
