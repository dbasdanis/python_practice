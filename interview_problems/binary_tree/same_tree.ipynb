{
 "cells": [
  {
   "attachments": {},
   "cell_type": "markdown",
   "metadata": {},
   "source": [
    "# Same Tree (easy)"
   ]
  },
  {
   "attachments": {},
   "cell_type": "markdown",
   "metadata": {},
   "source": [
    "Given the roots of two binary trees p and q, write a function to check if they are the same or not.\n",
    "\n",
    "Two binary trees are considered the same if they are structurally identical, and the nodes have the same value.\n",
    "\n",
    "Example 1:\n",
    "\n",
    "Input: p = [1,2,3], q = [1,2,3]\n",
    "Output: true\n",
    "\n",
    "Example 2:\n",
    "\n",
    "Input: p = [1,2], q = [1,null,2]\n",
    "Output: false\n",
    "\n",
    "Example 3:\n",
    "\n",
    "Input: p = [1,2,1], q = [1,1,2]\n",
    "Output: false"
   ]
  },
  {
   "cell_type": "code",
   "execution_count": 1,
   "metadata": {},
   "outputs": [],
   "source": [
    "class TreeNode:\n",
    "    def __init__(self, val=0, left=None, right=None):\n",
    "        self.val = val\n",
    "        self.left = left\n",
    "        self.right = right\n",
    "\n",
    "def is_same_tree(p,q):\n",
    "    if not p and not q:\n",
    "        return True\n",
    "    \n",
    "    if not p or not q:\n",
    "        return False\n",
    "    \n",
    "    if p.val != q.val:\n",
    "        return False\n",
    "    \n",
    "    # Recursively compare the left and right subtrees\n",
    "    return is_same_tree(p.left, q.left) and is_same_tree(p.right, q.right)"
   ]
  },
  {
   "cell_type": "code",
   "execution_count": 2,
   "metadata": {},
   "outputs": [
    {
     "name": "stdout",
     "output_type": "stream",
     "text": [
      "True\n",
      "False\n",
      "False\n"
     ]
    }
   ],
   "source": [
    "# Example 1\n",
    "p = TreeNode(1, TreeNode(2), TreeNode(3))\n",
    "q = TreeNode(1, TreeNode(2), TreeNode(3))\n",
    "print(is_same_tree(p, q))  # Output: True\n",
    "\n",
    "# Example 2\n",
    "p = TreeNode(1, TreeNode(2))\n",
    "q = TreeNode(1, None, TreeNode(2))\n",
    "print(is_same_tree(p, q))  # Output: False\n",
    "\n",
    "# Example 3\n",
    "p = TreeNode(1, TreeNode(2), TreeNode(1))\n",
    "q = TreeNode(1, TreeNode(1), TreeNode(2))\n",
    "print(is_same_tree(p, q))  # Output: False"
   ]
  }
 ],
 "metadata": {
  "kernelspec": {
   "display_name": "venv",
   "language": "python",
   "name": "python3"
  },
  "language_info": {
   "codemirror_mode": {
    "name": "ipython",
    "version": 3
   },
   "file_extension": ".py",
   "mimetype": "text/x-python",
   "name": "python",
   "nbconvert_exporter": "python",
   "pygments_lexer": "ipython3",
   "version": "3.11.2"
  },
  "orig_nbformat": 4,
  "vscode": {
   "interpreter": {
    "hash": "5aa9d9cfaefd52d9eee0e4decc26aff1d3ddaa6ecc236e5a9a4e808ebd9cabf2"
   }
  }
 },
 "nbformat": 4,
 "nbformat_minor": 2
}
