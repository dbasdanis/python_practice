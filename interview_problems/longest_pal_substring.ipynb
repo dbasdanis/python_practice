{
 "cells": [
  {
   "attachments": {},
   "cell_type": "markdown",
   "metadata": {},
   "source": [
    "# Longest Palindromic Substring"
   ]
  },
  {
   "attachments": {},
   "cell_type": "markdown",
   "metadata": {},
   "source": [
    "Given a string s, return the longest palindromic substring in s."
   ]
  },
  {
   "attachments": {},
   "cell_type": "markdown",
   "metadata": {},
   "source": [
    "### Solution"
   ]
  },
  {
   "cell_type": "code",
   "execution_count": 5,
   "metadata": {},
   "outputs": [
    {
     "name": "stdout",
     "output_type": "stream",
     "text": [
      "Longest palindromic substring: bab\n"
     ]
    }
   ],
   "source": [
    "class Solution:\n",
    "    def longestPalindrome(self, s: str) -> str:\n",
    "        if not s:\n",
    "            return \"\"\n",
    "\n",
    "        longest = \"\"\n",
    "        max_length = 0\n",
    "\n",
    "        for i in range(len(s)):\n",
    "            len1 = self.expandFromMiddle(s, i, i)  # Check for odd-length palindromes\n",
    "            len2 = self.expandFromMiddle(s, i, i + 1)  # Check for even-length palindromes\n",
    "            curr_length = max(len1, len2)\n",
    "\n",
    "            if curr_length > max_length:\n",
    "                start = i - (curr_length - 1) // 2\n",
    "                end = i + curr_length // 2\n",
    "                longest = s[start:end+1]\n",
    "                max_length = curr_length\n",
    "\n",
    "        return longest\n",
    "\n",
    "    def expandFromMiddle(self, s: str, left: int, right: int) -> int:\n",
    "        while left >= 0 and right < len(s) and s[left] == s[right]:\n",
    "            left -= 1\n",
    "            right += 1\n",
    "\n",
    "        return right - left - 1\n",
    "\n",
    "\n",
    "\n",
    "# Create an instance of the solution class\n",
    "solution = Solution()\n",
    "\n",
    "# Example input: \"babad\"\n",
    "input_str = \"babad\"\n",
    "\n",
    "# Call the method to find the longest palindromic substring\n",
    "result = solution.longestPalindrome(input_str)\n",
    "\n",
    "# Print the result\n",
    "print(\"Longest palindromic substring:\", result)\n"
   ]
  }
 ],
 "metadata": {
  "kernelspec": {
   "display_name": "venv",
   "language": "python",
   "name": "python3"
  },
  "language_info": {
   "codemirror_mode": {
    "name": "ipython",
    "version": 3
   },
   "file_extension": ".py",
   "mimetype": "text/x-python",
   "name": "python",
   "nbconvert_exporter": "python",
   "pygments_lexer": "ipython3",
   "version": "3.11.2"
  },
  "orig_nbformat": 4,
  "vscode": {
   "interpreter": {
    "hash": "5aa9d9cfaefd52d9eee0e4decc26aff1d3ddaa6ecc236e5a9a4e808ebd9cabf2"
   }
  }
 },
 "nbformat": 4,
 "nbformat_minor": 2
}
