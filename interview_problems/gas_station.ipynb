{
 "cells": [
  {
   "attachments": {},
   "cell_type": "markdown",
   "metadata": {},
   "source": [
    "# Gas Station"
   ]
  },
  {
   "attachments": {},
   "cell_type": "markdown",
   "metadata": {},
   "source": [
    "There are n gas stations along a circular route, where the amount of gas at the ith station is gas[i].\n",
    "\n",
    "You have a car with an unlimited gas tank and it costs cost[i] of gas to travel from the ith station to its next (i + 1)th station. You begin the journey with an empty tank at one of the gas stations.\n",
    "\n",
    "Given two integer arrays gas and cost, return the starting gas station's index if you can travel around the circuit once in the clockwise direction, otherwise return -1. If there exists a solution, it is guaranteed to be unique\n",
    "\n",
    "Example 1:\n",
    "\n",
    "Input: gas = [1,2,3,4,5], cost = [3,4,5,1,2]\n",
    "Output: 3\n",
    "Explanation:\n",
    "Start at station 3 (index 3) and fill up with 4 unit of gas. Your tank = 0 + 4 = 4\n",
    "Travel to station 4. Your tank = 4 - 1 + 5 = 8\n",
    "Travel to station 0. Your tank = 8 - 2 + 1 = 7\n",
    "Travel to station 1. Your tank = 7 - 3 + 2 = 6\n",
    "Travel to station 2. Your tank = 6 - 4 + 3 = 5\n",
    "Travel to station 3. The cost is 5. Your gas is just enough to travel back to station 3.\n",
    "Therefore, return 3 as the starting index.\n",
    "\n",
    "Example 2:\n",
    "\n",
    "Input: gas = [2,3,4], cost = [3,4,3]\n",
    "Output: -1\n",
    "Explanation:\n",
    "You can't start at station 0 or 1, as there is not enough gas to travel to the next station.\n",
    "Let's start at station 2 and fill up with 4 unit of gas. Your tank = 0 + 4 = 4\n",
    "Travel to station 0. Your tank = 4 - 3 + 2 = 3\n",
    "Travel to station 1. Your tank = 3 - 3 + 3 = 3\n",
    "You cannot travel back to station 2, as it requires 4 unit of gas but you only have 3.\n",
    "Therefore, you can't travel around the circuit once no matter where you start.\n"
   ]
  },
  {
   "cell_type": "code",
   "execution_count": 33,
   "metadata": {},
   "outputs": [
    {
     "name": "stdout",
     "output_type": "stream",
     "text": [
      "0\n"
     ]
    }
   ],
   "source": [
    "from typing import List\n",
    "class Solution:\n",
    "    def canCompleteCircuit(self, gas: List[int], cost: List[int]) -> int:\n",
    "        n = len(gas)\n",
    "        if n <= 1 and gas[0] - cost[0] >= 0 or n > 50:\n",
    "            return 0\n",
    "\n",
    "        startPoints = []\n",
    "        # Find the start position\n",
    "        for i in range(len(gas)):\n",
    "            if gas[i] - cost[i] > 0:\n",
    "                startPoints.append(i)\n",
    "\n",
    "        for start in startPoints:\n",
    "            pos = start\n",
    "            tank = 0\n",
    "            emptyTank = False\n",
    "            for i in range(len(gas)):\n",
    "                tank += gas[pos] - cost[pos]\n",
    "                if tank < 0 :\n",
    "                    emptyTank = True\n",
    "                    break\n",
    "                pos += 1\n",
    "                if pos == len(gas):\n",
    "                    pos = 0\n",
    "            if i == (len(gas) - 1) and emptyTank == False:\n",
    "                    return start\n",
    "        \n",
    "        return -1\n",
    "        \n",
    "\n",
    "solution = Solution()\n",
    "gas = [2]\n",
    "cost = [2]\n",
    "result = solution.canCompleteCircuit(gas,cost)\n",
    "print(result)"
   ]
  },
  {
   "cell_type": "code",
   "execution_count": 34,
   "metadata": {},
   "outputs": [
    {
     "name": "stdout",
     "output_type": "stream",
     "text": [
      "0\n"
     ]
    }
   ],
   "source": [
    "# Solution II\n",
    "from typing import List\n",
    "class Solution:\n",
    "    def canCompleteCircuit(self, gas: List[int], cost: List[int]) -> int:\n",
    "        start = 0\n",
    "        total = 0\n",
    "        tank = 0\n",
    "        deficit = 0\n",
    "\n",
    "        for i in range(len(gas)):\n",
    "            tank += gas[i] - cost[i]\n",
    "            if tank < 0:\n",
    "                start = i + 1\n",
    "                tank = 0\n",
    "            total += gas[i] - cost[i]\n",
    "            deficit += min(tank, 0)\n",
    "\n",
    "        if total >= deficit:\n",
    "            return start\n",
    "        else:\n",
    "            return -1\n",
    "        \n",
    "\n",
    "solution = Solution()\n",
    "gas = [2]\n",
    "cost = [2]\n",
    "result = solution.canCompleteCircuit(gas,cost)\n",
    "print(result)\n"
   ]
  }
 ],
 "metadata": {
  "kernelspec": {
   "display_name": "venv",
   "language": "python",
   "name": "python3"
  },
  "language_info": {
   "codemirror_mode": {
    "name": "ipython",
    "version": 3
   },
   "file_extension": ".py",
   "mimetype": "text/x-python",
   "name": "python",
   "nbconvert_exporter": "python",
   "pygments_lexer": "ipython3",
   "version": "3.11.2"
  },
  "orig_nbformat": 4,
  "vscode": {
   "interpreter": {
    "hash": "5aa9d9cfaefd52d9eee0e4decc26aff1d3ddaa6ecc236e5a9a4e808ebd9cabf2"
   }
  }
 },
 "nbformat": 4,
 "nbformat_minor": 2
}
