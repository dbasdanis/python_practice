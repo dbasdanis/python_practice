{
 "cells": [
  {
   "attachments": {},
   "cell_type": "markdown",
   "metadata": {},
   "source": [
    "# Merge Sorted Array"
   ]
  },
  {
   "attachments": {},
   "cell_type": "markdown",
   "metadata": {},
   "source": [
    "You are given two integer arrays nums1 and nums2, sorted in non-decreasing order, and two integers m and n, representing the number of elements in nums1 and nums2 respectively.\n",
    "\n",
    "Merge nums1 and nums2 into a single array sorted in non-decreasing order.\n",
    "\n",
    "The final sorted array should not be returned by the function, but instead be stored inside the array nums1. To accommodate this, nums1 has a length of m + n, where the first m elements denote the elements that should be merged, and the last n elements are set to 0 and should be ignored. nums2 has a length of n.\n",
    "\n"
   ]
  },
  {
   "attachments": {},
   "cell_type": "markdown",
   "metadata": {},
   "source": [
    "### Solution"
   ]
  },
  {
   "cell_type": "code",
   "execution_count": 1,
   "metadata": {},
   "outputs": [
    {
     "name": "stdout",
     "output_type": "stream",
     "text": [
      "[1, 2, 2, 3, 5, 6]\n"
     ]
    }
   ],
   "source": [
    "from typing import List\n",
    "\n",
    "class Solution:\n",
    "    def merge(self, nums1: List[int], m: int, nums2: List[int], n: int) -> None:\n",
    "        p1 = m - 1\n",
    "        p2 = n - 1\n",
    "        p = m + n - 1\n",
    "        \n",
    "        while p1 >= 0 and p2 >= 0:\n",
    "            if nums1[p1] > nums2[p2]:\n",
    "                nums1[p] = nums1[p1]\n",
    "                p1 -= 1\n",
    "            else:\n",
    "                nums1[p] = nums2[p2]\n",
    "                p2 -= 1\n",
    "            p -= 1\n",
    "        \n",
    "        while p2 >= 0:\n",
    "            nums1[p] = nums2[p2]\n",
    "            p2 -= 1\n",
    "            p -= 1\n",
    "\n",
    "nums1 = [1, 2, 3, 0, 0, 0]  # Initial elements in nums1\n",
    "m = 3                      # Number of elements in nums1\n",
    "nums2 = [2, 5, 6]          # Elements in nums2\n",
    "n = 3                      # Number of elements in nums2\n",
    "solution = Solution()\n",
    "solution.merge(nums1, m, nums2, n)\n",
    "\n",
    "print(nums1) "
   ]
  },
  {
   "attachments": {},
   "cell_type": "markdown",
   "metadata": {},
   "source": [
    "### Explanation"
   ]
  },
  {
   "attachments": {},
   "cell_type": "markdown",
   "metadata": {},
   "source": [
    "The goal of the problem is to merge two sorted arrays, nums1 and nums2, into nums1 in a non-decreasing order.\n",
    "\n",
    "The solution follows a two-pointer approach. We start with three pointers: p1 for nums1, p2 for nums2, and p for the merged array.\n",
    "\n",
    "We iterate from the end of both arrays (nums1 and nums2) to merge the elements into nums1.\n",
    "\n",
    "While both p1 and p2 are greater than or equal to 0 (indicating there are elements remaining to be merged), we compare the elements at the current positions of p1 and p2. If the element in nums1 at position p1 is greater than the element in nums2 at position p2, we copy the element from nums1 to the current position p in nums1 and decrement p1 and p by 1. Otherwise, if the element in nums2 at position p2 is greater or equal, we copy that element to nums1 and decrement p2 and p by 1. This process continues until we have merged all the elements from nums2 into nums1.\n",
    "\n",
    "After the above loop, if there are remaining elements in nums2 (i.e., if p2 is still greater than or equal to 0), we copy those remaining elements to the beginning of nums1 from position p to 0, effectively merging the rest of nums2 into nums1.\n",
    "\n",
    "At the end of the process, nums1 will contain the merged and sorted array.\n",
    "\n",
    "The time complexity of this solution is O(m + n), where m is the length of nums1 and n is the length of nums2."
   ]
  }
 ],
 "metadata": {
  "kernelspec": {
   "display_name": "venv",
   "language": "python",
   "name": "python3"
  },
  "language_info": {
   "codemirror_mode": {
    "name": "ipython",
    "version": 3
   },
   "file_extension": ".py",
   "mimetype": "text/x-python",
   "name": "python",
   "nbconvert_exporter": "python",
   "pygments_lexer": "ipython3",
   "version": "3.11.2"
  },
  "orig_nbformat": 4,
  "vscode": {
   "interpreter": {
    "hash": "5aa9d9cfaefd52d9eee0e4decc26aff1d3ddaa6ecc236e5a9a4e808ebd9cabf2"
   }
  }
 },
 "nbformat": 4,
 "nbformat_minor": 2
}
