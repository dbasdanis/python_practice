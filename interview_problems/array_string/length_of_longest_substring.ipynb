{
 "cells": [
  {
   "attachments": {},
   "cell_type": "markdown",
   "metadata": {},
   "source": [
    "# Longest Substring Without Repeating Characters"
   ]
  },
  {
   "attachments": {},
   "cell_type": "markdown",
   "metadata": {},
   "source": [
    "Given a string s, find the length of the longest \n",
    "substring without repeating characters."
   ]
  },
  {
   "attachments": {},
   "cell_type": "markdown",
   "metadata": {},
   "source": [
    "### Solution"
   ]
  },
  {
   "cell_type": "code",
   "execution_count": 1,
   "metadata": {},
   "outputs": [
    {
     "name": "stdout",
     "output_type": "stream",
     "text": [
      "Length of the longest substring without repeating characters: 3\n"
     ]
    }
   ],
   "source": [
    "class Solution:\n",
    "    def lengthOfLongestSubstring(self, s: str) -> int:\n",
    "        # Dictionary to store the most recent index of each character\n",
    "        char_dict = {}\n",
    "        max_length = 0\n",
    "        start_index = 0\n",
    "        \n",
    "        for i in range(len(s)):\n",
    "            if s[i] in char_dict and start_index <= char_dict[s[i]]:\n",
    "                start_index = char_dict[s[i]] + 1\n",
    "            else:\n",
    "                max_length = max(max_length, i - start_index + 1)\n",
    "                \n",
    "            char_dict[s[i]] = i\n",
    "        \n",
    "        return max_length\n",
    "\n",
    "# Create an instance of the solution class\n",
    "solution = Solution()\n",
    "\n",
    "# Example input: \"abcabcbb\"\n",
    "input_str = \"abcabcbb\"\n",
    "\n",
    "# Call the method to find the length of the longest substring without repeating characters\n",
    "result = solution.lengthOfLongestSubstring(input_str)\n",
    "\n",
    "# Print the result\n",
    "print(\"Length of the longest substring without repeating characters:\", result)\n"
   ]
  }
 ],
 "metadata": {
  "kernelspec": {
   "display_name": "venv",
   "language": "python",
   "name": "python3"
  },
  "language_info": {
   "codemirror_mode": {
    "name": "ipython",
    "version": 3
   },
   "file_extension": ".py",
   "mimetype": "text/x-python",
   "name": "python",
   "nbconvert_exporter": "python",
   "pygments_lexer": "ipython3",
   "version": "3.11.2"
  },
  "orig_nbformat": 4,
  "vscode": {
   "interpreter": {
    "hash": "5aa9d9cfaefd52d9eee0e4decc26aff1d3ddaa6ecc236e5a9a4e808ebd9cabf2"
   }
  }
 },
 "nbformat": 4,
 "nbformat_minor": 2
}
