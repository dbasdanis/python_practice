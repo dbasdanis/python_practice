{
 "cells": [
  {
   "attachments": {},
   "cell_type": "markdown",
   "metadata": {},
   "source": [
    "# Add two numbers"
   ]
  },
  {
   "attachments": {},
   "cell_type": "markdown",
   "metadata": {},
   "source": [
    "You are given two non-empty linked lists representing two non-negative integers. The digits are stored in reverse order, and each of their nodes contains a single digit. Add the two numbers and return the sum as a linked list.\n",
    "\n",
    "You may assume the two numbers do not contain any leading zero, except the number 0 itself."
   ]
  },
  {
   "attachments": {},
   "cell_type": "markdown",
   "metadata": {},
   "source": [
    "### Solution"
   ]
  },
  {
   "cell_type": "code",
   "execution_count": 52,
   "metadata": {},
   "outputs": [
    {
     "name": "stdout",
     "output_type": "stream",
     "text": [
      "7 0 8 "
     ]
    }
   ],
   "source": [
    "# Definition for singly-linked list.\n",
    "class ListNode:\n",
    "    def __init__(self, val=0, next=None):\n",
    "        self.val = val\n",
    "        self.next = next\n",
    "\n",
    "class Solution:\n",
    "    def addTwoNumbers(self, l1: ListNode, l2: ListNode) -> ListNode:\n",
    "        carry = 0\n",
    "        dummy = ListNode()  # Dummy node to hold the result\n",
    "        curr = dummy  # Current node for building the result linked list\n",
    "\n",
    "        while l1 or l2 or carry:\n",
    "            # Calculate the sum of the current digits and the carry\n",
    "            sum_val = (l1.val if l1 else 0) + (l2.val if l2 else 0) + carry\n",
    "            carry = sum_val // 10  # Determine the carry for the next iteration\n",
    "            digit = sum_val % 10  # Determine the digit value for the current node\n",
    "\n",
    "            # Create a new node with the calculated digit\n",
    "            curr.next = ListNode(digit)\n",
    "            curr = curr.next\n",
    "\n",
    "            # Move to the next nodes in both input linked lists, if available\n",
    "            l1 = l1.next if l1 else None\n",
    "            l2 = l2.next if l2 else None\n",
    "\n",
    "        return dummy.next  # Return the head of the resulting linked list\n",
    "\n",
    "# Example usage:\n",
    "# Create linked lists: 2 -> 4 -> 3 and 5 -> 6 -> 4\n",
    "l1 = ListNode(2)\n",
    "l1.next = ListNode(4)\n",
    "l1.next.next = ListNode(3)\n",
    "\n",
    "l2 = ListNode(5)\n",
    "l2.next = ListNode(6)\n",
    "l2.next.next = ListNode(4)\n",
    "\n",
    "# Create an instance of the solution class and call the method\n",
    "solution = Solution()\n",
    "result = solution.addTwoNumbers(l1, l2)\n",
    "\n",
    "# Print the resulting linked list values\n",
    "while result:\n",
    "    print(result.val, end=\" \")\n",
    "    result = result.next\n",
    "\n",
    "# Output: 7 0 8\n"
   ]
  }
 ],
 "metadata": {
  "kernelspec": {
   "display_name": "venv",
   "language": "python",
   "name": "python3"
  },
  "language_info": {
   "codemirror_mode": {
    "name": "ipython",
    "version": 3
   },
   "file_extension": ".py",
   "mimetype": "text/x-python",
   "name": "python",
   "nbconvert_exporter": "python",
   "pygments_lexer": "ipython3",
   "version": "3.11.2"
  },
  "orig_nbformat": 4,
  "vscode": {
   "interpreter": {
    "hash": "5aa9d9cfaefd52d9eee0e4decc26aff1d3ddaa6ecc236e5a9a4e808ebd9cabf2"
   }
  }
 },
 "nbformat": 4,
 "nbformat_minor": 2
}
