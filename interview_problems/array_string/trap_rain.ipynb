{
 "cells": [
  {
   "attachments": {},
   "cell_type": "markdown",
   "metadata": {},
   "source": [
    "# Trapping Rain Water (Hard problem)"
   ]
  },
  {
   "attachments": {},
   "cell_type": "markdown",
   "metadata": {},
   "source": [
    "Given n non-negative integers representing an elevation map where the width of each bar is 1, compute how much water it can trap after raining.\n",
    "\n",
    "Example 1:\n",
    "\n",
    "\n",
    "Input: height = [0,1,0,2,1,0,1,3,2,1,2,1]\n",
    "Output: 6\n",
    "Explanation: The above elevation map (black section) is represented by array [0,1,0,2,1,0,1,3,2,1,2,1]. In this case, 6 units of rain water (blue section) are being trapped.\n",
    "\n",
    "Example 2:\n",
    "\n",
    "Input: height = [4,2,0,3,2,5]\n",
    "Output: 9\n"
   ]
  },
  {
   "cell_type": "code",
   "execution_count": 10,
   "metadata": {},
   "outputs": [
    {
     "name": "stdout",
     "output_type": "stream",
     "text": [
      "6\n"
     ]
    }
   ],
   "source": [
    "from typing import List\n",
    "class Solution:\n",
    "    def trap(self, height: List[int]) -> int:\n",
    "        n = len(height)\n",
    "        left = 0\n",
    "        right = n - 1\n",
    "        left_max = right_max = water = 0\n",
    "\n",
    "        while left < right:\n",
    "            if height[left] <= height[right]:\n",
    "                left_max = max(left_max, height[left])\n",
    "                water += left_max - height[left]\n",
    "                left += 1\n",
    "            else:\n",
    "                right_max = max(right_max, height[right])\n",
    "                water += right_max - height[right]\n",
    "                right -= 1\n",
    "\n",
    "        return water\n",
    "\n",
    "solution = Solution()\n",
    "height = [0,1,0,2,1,0,1,3,2,1,2,1]\n",
    "result = solution.trap(height)\n",
    "print(result)\n"
   ]
  }
 ],
 "metadata": {
  "kernelspec": {
   "display_name": "venv",
   "language": "python",
   "name": "python3"
  },
  "language_info": {
   "codemirror_mode": {
    "name": "ipython",
    "version": 3
   },
   "file_extension": ".py",
   "mimetype": "text/x-python",
   "name": "python",
   "nbconvert_exporter": "python",
   "pygments_lexer": "ipython3",
   "version": "3.11.2"
  },
  "orig_nbformat": 4,
  "vscode": {
   "interpreter": {
    "hash": "5aa9d9cfaefd52d9eee0e4decc26aff1d3ddaa6ecc236e5a9a4e808ebd9cabf2"
   }
  }
 },
 "nbformat": 4,
 "nbformat_minor": 2
}
