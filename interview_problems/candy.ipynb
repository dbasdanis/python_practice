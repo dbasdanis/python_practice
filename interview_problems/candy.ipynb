{
 "cells": [
  {
   "attachments": {},
   "cell_type": "markdown",
   "metadata": {},
   "source": [
    "# Candy (Hard problem)"
   ]
  },
  {
   "attachments": {},
   "cell_type": "markdown",
   "metadata": {},
   "source": [
    "There are n children standing in a line. Each child is assigned a rating value given in the integer array ratings.\n",
    "\n",
    "You are giving candies to these children subjected to the following requirements:\n",
    "\n",
    "Each child must have at least one candy.\n",
    "Children with a higher rating get more candies than their neighbors.\n",
    "Return the minimum number of candies you need to have to distribute the candies to the children.\n",
    "\n",
    "Example 1:\n",
    "\n",
    "Input: ratings = [1,0,2]\n",
    "Output: 5\n",
    "Explanation: You can allocate to the first, second and third child with 2, 1, 2 candies respectively.\n",
    "\n",
    "Example 2:\n",
    "\n",
    "Input: ratings = [1,2,2]\n",
    "Output: 4\n",
    "Explanation: You can allocate to the first, second and third child with 1, 2, 1 candies respectively.\n",
    "The third child gets 1 candy because it satisfies the above two conditions."
   ]
  }
 ],
 "metadata": {
  "language_info": {
   "name": "python"
  },
  "orig_nbformat": 4
 },
 "nbformat": 4,
 "nbformat_minor": 2
}
