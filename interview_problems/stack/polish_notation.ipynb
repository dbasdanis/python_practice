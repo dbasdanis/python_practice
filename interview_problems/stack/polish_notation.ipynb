{
 "cells": [
  {
   "attachments": {},
   "cell_type": "markdown",
   "metadata": {},
   "source": [
    "# Evaluate Reverse Polish Notation"
   ]
  },
  {
   "attachments": {},
   "cell_type": "markdown",
   "metadata": {},
   "source": [
    "You are given an array of strings tokens that represents an arithmetic expression in a Reverse Polish Notation.\n",
    "\n",
    "Evaluate the expression. Return an integer that represents the value of the expression.\n",
    "\n",
    "Note that:\n",
    "\n",
    "The valid operators are '+', '-', '*', and '/'.\n",
    "Each operand may be an integer or another expression.\n",
    "The division between two integers always truncates toward zero.\n",
    "There will not be any division by zero.\n",
    "The input represents a valid arithmetic expression in a reverse polish notation.\n",
    "The answer and all the intermediate calculations can be represented in a 32-bit integer.\n",
    "```python\n",
    "Example 1:\n",
    "\n",
    "Input: tokens = [\"2\",\"1\",\"+\",\"3\",\"*\"]\n",
    "Output: 9\n",
    "Explanation: ((2 + 1) * 3) = 9\n",
    "\n",
    "Example 2:\n",
    "\n",
    "Input: tokens = [\"4\",\"13\",\"5\",\"/\",\"+\"]\n",
    "Output: 6\n",
    "Explanation: (4 + (13 / 5)) = 6\n",
    "\n",
    "Example 3:\n",
    "\n",
    "Input: tokens = [\"10\",\"6\",\"9\",\"3\",\"+\",\"-11\",\"*\",\"/\",\"*\",\"17\",\"+\",\"5\",\"+\"]\n",
    "Output: 22\n",
    "Explanation: ((10 * (6 / ((9 + 3) * -11))) + 17) + 5\n",
    "= ((10 * (6 / (12 * -11))) + 17) + 5\n",
    "= ((10 * (6 / -132)) + 17) + 5\n",
    "= ((10 * 0) + 17) + 5\n",
    "= (0 + 17) + 5\n",
    "= 17 + 5\n",
    "= 22"
   ]
  },
  {
   "cell_type": "code",
   "execution_count": 1,
   "metadata": {},
   "outputs": [
    {
     "name": "stdout",
     "output_type": "stream",
     "text": [
      "9\n"
     ]
    }
   ],
   "source": [
    "# The idea is to iterate through the tokens and perform the corresponding operations when encountering an operator\n",
    "class Solution:\n",
    "    def evalRPN(self, tokens):\n",
    "        stack = []\n",
    "\n",
    "        for token in tokens:\n",
    "            if token in ['+','-','*','/']:\n",
    "                #perform the operation on the top two operands in the stack\n",
    "                operand2 = stack.pop()\n",
    "                operand1 = stack.pop()\n",
    "                \n",
    "                if token == '+':\n",
    "                    result = operand1 + operand2\n",
    "                elif token == '-':\n",
    "                    result = operand1 - operand2\n",
    "                elif token == '*':\n",
    "                    result = operand1 * operand2\n",
    "                elif token == '/':\n",
    "                    # division truncates towards zero in Python\n",
    "                    result = int(operand1 / operand2)\n",
    "\n",
    "                stack.append(result)\n",
    "\n",
    "            else:\n",
    "                # convert the token to an integer and push it into the stack\n",
    "                stack.append(int(token))\n",
    "\n",
    "        # the final result will be the only element in the stack\n",
    "        return stack[0]\n",
    "                 \n",
    "\n",
    "solution = Solution()\n",
    "tokens = [\"2\", \"1\", \"+\", \"3\", \"*\"]\n",
    "print(solution.evalRPN(tokens))"
   ]
  }
 ],
 "metadata": {
  "kernelspec": {
   "display_name": "venv",
   "language": "python",
   "name": "python3"
  },
  "language_info": {
   "codemirror_mode": {
    "name": "ipython",
    "version": 3
   },
   "file_extension": ".py",
   "mimetype": "text/x-python",
   "name": "python",
   "nbconvert_exporter": "python",
   "pygments_lexer": "ipython3",
   "version": "3.11.2"
  },
  "orig_nbformat": 4,
  "vscode": {
   "interpreter": {
    "hash": "5aa9d9cfaefd52d9eee0e4decc26aff1d3ddaa6ecc236e5a9a4e808ebd9cabf2"
   }
  }
 },
 "nbformat": 4,
 "nbformat_minor": 2
}
