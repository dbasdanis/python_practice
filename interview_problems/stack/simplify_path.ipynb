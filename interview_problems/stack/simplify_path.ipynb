{
 "cells": [
  {
   "attachments": {},
   "cell_type": "markdown",
   "metadata": {},
   "source": [
    "# Simplify Path (medium)"
   ]
  },
  {
   "attachments": {},
   "cell_type": "markdown",
   "metadata": {},
   "source": [
    "Given a string path, which is an absolute path (starting with a slash '/') to a file or directory in a Unix-style file system, convert it to the simplified canonical path.\n",
    "\n",
    "In a Unix-style file system, a period '.' refers to the current directory, a double period '..' refers to the directory up a level, and any multiple consecutive slashes (i.e. '//') are treated as a single slash '/'. For this problem, any other format of periods such as '...' are treated as file/directory names.\n",
    "\n",
    "The canonical path should have the following format:\n",
    "\n",
    "The path starts with a single slash '/'.\n",
    "Any two directories are separated by a single slash '/'.\n",
    "The path does not end with a trailing '/'.\n",
    "The path only contains the directories on the path from the root directory to the target file or directory (i.e., no period '.' or double period '..')\n",
    "Return the simplified canonical path.\n",
    "\n",
    "Example 1:\n",
    "\n",
    "Input: path = \"/home/\"\n",
    "Output: \"/home\"\n",
    "Explanation: Note that there is no trailing slash after the last directory name.\n",
    "\n",
    "Example 2:\n",
    "\n",
    "Input: path = \"/../\"\n",
    "Output: \"/\"\n",
    "Explanation: Going one level up from the root directory is a no-op, as the root level is the highest level you can go.\n",
    "\n",
    "Example 3:\n",
    "\n",
    "Input: path = \"/home//foo/\"\n",
    "Output: \"/home/foo\"\n",
    "Explanation: In the canonical path, multiple consecutive slashes are replaced by a single one."
   ]
  },
  {
   "cell_type": "code",
   "execution_count": 1,
   "metadata": {},
   "outputs": [
    {
     "name": "stdout",
     "output_type": "stream",
     "text": [
      "None\n"
     ]
    }
   ],
   "source": [
    "class Solution:\n",
    "    def simplifyPath(self, path: str) -> str:\n",
    "        stack = []\n",
    "\n",
    "        # split the path by '/'\n",
    "        elements = path.split('/')\n",
    "\n",
    "        for element in elements:\n",
    "            # ignore empty elements and '.'\n",
    "            if element == '' or element == '.':\n",
    "                continue\n",
    "            # go up one level for '..'\n",
    "            elif element == '..':\n",
    "                if stack:\n",
    "                    stack.pop()\n",
    "            else:\n",
    "                # valid directory or file name, push onto the stack\n",
    "                stack.append(element) \n",
    "\n",
    "        # join the remaining elements in the stack to form the simplified canonical path\n",
    "        canonical_path = '/' + '/'.join(stack)\n",
    "\n",
    "        return canonical_path\n",
    "\n",
    "solution = Solution()\n",
    "path = \"/home/\"\n",
    "result = solution.simplifyPath(path)\n",
    "print(result)"
   ]
  }
 ],
 "metadata": {
  "kernelspec": {
   "display_name": "venv",
   "language": "python",
   "name": "python3"
  },
  "language_info": {
   "codemirror_mode": {
    "name": "ipython",
    "version": 3
   },
   "file_extension": ".py",
   "mimetype": "text/x-python",
   "name": "python",
   "nbconvert_exporter": "python",
   "pygments_lexer": "ipython3",
   "version": "3.11.2"
  },
  "orig_nbformat": 4,
  "vscode": {
   "interpreter": {
    "hash": "5aa9d9cfaefd52d9eee0e4decc26aff1d3ddaa6ecc236e5a9a4e808ebd9cabf2"
   }
  }
 },
 "nbformat": 4,
 "nbformat_minor": 2
}
