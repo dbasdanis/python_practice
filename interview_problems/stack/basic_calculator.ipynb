{
 "cells": [
  {
   "attachments": {},
   "cell_type": "markdown",
   "metadata": {},
   "source": [
    "# Basic Calculator (hard)"
   ]
  },
  {
   "attachments": {},
   "cell_type": "markdown",
   "metadata": {},
   "source": [
    "Given a string s representing a valid expression, implement a basic calculator to evaluate it, and return the result of the evaluation.\n",
    "\n",
    "Note: You are not allowed to use any built-in function which evaluates strings as mathematical expressions, such as eval().\n",
    "```python\n",
    "Example 1:\n",
    "\n",
    "Input: s = \"1 + 1\"\n",
    "Output: 2\n",
    "\n",
    "Example 2:\n",
    "\n",
    "Input: s = \" 2-1 + 2 \"\n",
    "Output: 3\n",
    "Example 3:\n",
    "\n",
    "Input: s = \"(1+(4+5+2)-3)+(6+8)\"\n",
    "Output: 23"
   ]
  },
  {
   "cell_type": "code",
   "execution_count": null,
   "metadata": {},
   "outputs": [],
   "source": [
    "class Solution:\n",
    "    def calculate(self, s):\n",
    "        stack = []\n",
    "        operand = 0\n",
    "        result = 0\n",
    "        sign = 1\n",
    "\n",
    "        for char in s:\n",
    "            if char.isdigit():\n",
    "                operand = (operand * 10) + int(char)\n",
    "            elif char == '+':\n",
    "                result += sign * operand\n",
    "                operand = 0\n",
    "                sign = 1\n",
    "            elif char == '-':\n",
    "                result += sign * operand\n",
    "                operand = 0\n",
    "                sign = -1\n",
    "            elif char == '(':\n",
    "                stack.append(result)\n",
    "                stack.append(sign)\n",
    "                result = 0\n",
    "                sign = 1\n",
    "            elif char == ')':\n",
    "                result += sign * operand\n",
    "                result *= stack.pop()\n",
    "                result += stack.pop()\n",
    "                operand = 0\n",
    "\n",
    "        result += sign * operand\n",
    "\n",
    "        return result\n",
    "\n",
    "solution = Solution()\n",
    "s = \"1 + 1\"\n",
    "result = solution.calculate(s)\n",
    "print(result)"
   ]
  }
 ],
 "metadata": {
  "language_info": {
   "name": "python"
  },
  "orig_nbformat": 4
 },
 "nbformat": 4,
 "nbformat_minor": 2
}
