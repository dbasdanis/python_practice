{
 "cells": [
  {
   "attachments": {},
   "cell_type": "markdown",
   "metadata": {},
   "source": [
    "# Basic Calculator (hard)"
   ]
  },
  {
   "attachments": {},
   "cell_type": "markdown",
   "metadata": {},
   "source": [
    "Given a string s representing a valid expression, implement a basic calculator to evaluate it, and return the result of the evaluation.\n",
    "\n",
    "Note: You are not allowed to use any built-in function which evaluates strings as mathematical expressions, such as eval().\n",
    "```python\n",
    "Example 1:\n",
    "\n",
    "Input: s = \"1 + 1\"\n",
    "Output: 2\n",
    "\n",
    "Example 2:\n",
    "\n",
    "Input: s = \" 2-1 + 2 \"\n",
    "Output: 3\n",
    "Example 3:\n",
    "\n",
    "Input: s = \"(1+(4+5+2)-3)+(6+8)\"\n",
    "Output: 23"
   ]
  },
  {
   "cell_type": "code",
   "execution_count": 1,
   "metadata": {},
   "outputs": [
    {
     "name": "stdout",
     "output_type": "stream",
     "text": [
      "2\n"
     ]
    }
   ],
   "source": [
    "class Solution:\n",
    "    def calculate(self, s):\n",
    "        stack = []\n",
    "        operand = 0\n",
    "        result = 0\n",
    "        sign = 1\n",
    "\n",
    "        for char in s:\n",
    "            if char.isdigit():\n",
    "                operand = (operand * 10) + int(char)\n",
    "            elif char == '+':\n",
    "                result += sign * operand\n",
    "                operand = 0\n",
    "                sign = 1\n",
    "            elif char == '-':\n",
    "                result += sign * operand\n",
    "                operand = 0\n",
    "                sign = -1\n",
    "            elif char == '(':\n",
    "                stack.append(result)\n",
    "                stack.append(sign)\n",
    "                result = 0\n",
    "                sign = 1\n",
    "            elif char == ')':\n",
    "                result += sign * operand\n",
    "                result *= stack.pop()\n",
    "                result += stack.pop()\n",
    "                operand = 0\n",
    "\n",
    "        result += sign * operand\n",
    "\n",
    "        return result\n",
    "\n",
    "solution = Solution()\n",
    "s = \"1 + 1\"\n",
    "result = solution.calculate(s)\n",
    "print(result)"
   ]
  }
 ],
 "metadata": {
  "kernelspec": {
   "display_name": "venv",
   "language": "python",
   "name": "python3"
  },
  "language_info": {
   "codemirror_mode": {
    "name": "ipython",
    "version": 3
   },
   "file_extension": ".py",
   "mimetype": "text/x-python",
   "name": "python",
   "nbconvert_exporter": "python",
   "pygments_lexer": "ipython3",
   "version": "3.11.2"
  },
  "orig_nbformat": 4,
  "vscode": {
   "interpreter": {
    "hash": "5aa9d9cfaefd52d9eee0e4decc26aff1d3ddaa6ecc236e5a9a4e808ebd9cabf2"
   }
  }
 },
 "nbformat": 4,
 "nbformat_minor": 2
}
