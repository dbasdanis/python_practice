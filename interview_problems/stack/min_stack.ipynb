{
 "cells": [
  {
   "attachments": {},
   "cell_type": "markdown",
   "metadata": {},
   "source": [
    "# Min stack (medium)"
   ]
  },
  {
   "attachments": {},
   "cell_type": "markdown",
   "metadata": {},
   "source": [
    "Design a stack that supports push, pop, top, and retrieving the minimum element in constant time.\n",
    "\n",
    "Implement the MinStack class:\n",
    "\n",
    "MinStack() initializes the stack object.\n",
    "void push(int val) pushes the element val onto the stack.\n",
    "void pop() removes the element on the top of the stack.\n",
    "int top() gets the top element of the stack.\n",
    "int getMin() retrieves the minimum element in the stack.\n",
    "You must implement a solution with O(1) time complexity for each function.\n",
    "```python\n",
    "Example 1:\n",
    "\n",
    "#Input\n",
    "[\"MinStack\",\"push\",\"push\",\"push\",\"getMin\",\"pop\",\"top\",\"getMin\"]\n",
    "[[],[-2],[0],[-3],[],[],[],[]]\n",
    "\n",
    "#Output\n",
    "[null,null,null,null,-3,null,0,-2]\n",
    "\n",
    "#Explanation\n",
    "MinStack minStack = new MinStack();\n",
    "minStack.push(-2);\n",
    "minStack.push(0)\n",
    "minStack.push(-3)\n",
    "minStack.getMin() // return -3\n",
    "minStack.pop()\n",
    "minStack.top()    // return 0\n",
    "minStack.getMin() // return -2"
   ]
  },
  {
   "cell_type": "code",
   "execution_count": null,
   "metadata": {},
   "outputs": [],
   "source": [
    "class MinStack:\n",
    "    \"\"\"\n",
    "    The MinStack class uses two stacks: 'stack' to store the elements pushed onto the stack, and 'min_stack' to keep \n",
    "    track of the minimum element at any given point.\n",
    "    \"\"\"\n",
    "    def __init__(self):\n",
    "        self.stack = []\n",
    "        self.min_stack = []\n",
    "\n",
    "    def push(self, val: int) -> None:\n",
    "        self.stack.append(val)\n",
    "        if not self.min_stack or val <= self.min_stack[-1]:\n",
    "            self.min_stack.append(val)\n",
    "\n",
    "    def pop(self) -> None:\n",
    "        if self.stack:\n",
    "            val = self.stack.pop()\n",
    "            if val == self.min_stack[-1]:\n",
    "                self.min_stack.pop()\n",
    "\n",
    "    def top(self) -> int:\n",
    "        if self.stack:\n",
    "            return self.stack[-1]\n",
    "\n",
    "    def getMin(self) -> int:\n",
    "        if self.min_stack:\n",
    "            return self.min_stack[-1]"
   ]
  }
 ],
 "metadata": {
  "language_info": {
   "name": "python"
  },
  "orig_nbformat": 4
 },
 "nbformat": 4,
 "nbformat_minor": 2
}
