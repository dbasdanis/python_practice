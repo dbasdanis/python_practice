{
 "cells": [
  {
   "attachments": {},
   "cell_type": "markdown",
   "metadata": {},
   "source": [
    "# Reverse Node in k-Group (hard)"
   ]
  },
  {
   "attachments": {},
   "cell_type": "markdown",
   "metadata": {},
   "source": [
    "Given the head of a linked list, reverse the nodes of the list k at a time, and return the modified list.\n",
    "\n",
    "k is a positive integer and is less than or equal to the length of the linked list. If the number of nodes is not a multiple of k then left-out nodes, in the end, should remain as it is.\n",
    "\n",
    "You may not alter the values in the list's nodes, only nodes themselves may be changed.\n",
    "\n",
    "Example 1:\n",
    "\n",
    "Input: head = [1,2,3,4,5], k = 2\n",
    "Output: [2,1,4,3,5]\n",
    "\n",
    "Example 2:\n",
    "\n",
    "Input: head = [1,2,3,4,5], k = 3\n",
    "Output: [3,2,1,4,5]"
   ]
  },
  {
   "cell_type": "code",
   "execution_count": 1,
   "metadata": {},
   "outputs": [],
   "source": [
    "class ListNode:\n",
    "    def __init__(self, val=0, next = None):\n",
    "        self.val = val\n",
    "        self.next = next\n",
    "\n",
    "def reversekGroup(head,k):\n",
    "    # calculate the length of the linked list\n",
    "    length = 0\n",
    "    current = head\n",
    "    while current:\n",
    "        length += 1\n",
    "        current = current.next\n",
    "\n",
    "    # create a dummy node to serve as the previous node of the group to be reversed\n",
    "    dummy = ListNode(0)\n",
    "    dummy.next = head\n",
    "    prev = dummy\n",
    "\n",
    "    # Reverse the groups of size k\n",
    "    while length >= k:\n",
    "        current = prev.next\n",
    "        nxt = current.next\n",
    "        for _ in range(k-1):\n",
    "            current.next = nxt.next\n",
    "            nxt.next = prev.next\n",
    "            prev.next = nxt\n",
    "            nxt = current.next\n",
    "\n",
    "        prev = current\n",
    "        length -= k\n",
    "\n",
    "    return dummy.next"
   ]
  },
  {
   "cell_type": "code",
   "execution_count": 3,
   "metadata": {},
   "outputs": [
    {
     "name": "stdout",
     "output_type": "stream",
     "text": [
      "2 1 4 3 5 "
     ]
    }
   ],
   "source": [
    "# Original linked list: 1 -> 2 -> 3 -> 4 -> 5\n",
    "# Reverse nodes in groups of size 2\n",
    "# Reversed linked list: 2 -> 1 -> 4 -> 3 -> 5\n",
    "\n",
    "# Create the original linked list\n",
    "head = ListNode(1)\n",
    "node1 = ListNode(2)\n",
    "node2 = ListNode(3)\n",
    "node3 = ListNode(4)\n",
    "node4 = ListNode(5)\n",
    "head.next = node1\n",
    "node1.next = node2\n",
    "node2.next = node3\n",
    "node3.next = node4\n",
    "\n",
    "# Reverse the nodes in groups of size 2\n",
    "reversed_head = reversekGroup(head, 2)\n",
    "\n",
    "# Print the reversed linked list\n",
    "current = reversed_head\n",
    "while current:\n",
    "    print(current.val, end=\" \")\n",
    "    current = current.next\n",
    "# Output: 2 1 4 3 5\n"
   ]
  }
 ],
 "metadata": {
  "kernelspec": {
   "display_name": "venv",
   "language": "python",
   "name": "python3"
  },
  "language_info": {
   "codemirror_mode": {
    "name": "ipython",
    "version": 3
   },
   "file_extension": ".py",
   "mimetype": "text/x-python",
   "name": "python",
   "nbconvert_exporter": "python",
   "pygments_lexer": "ipython3",
   "version": "3.11.2"
  },
  "orig_nbformat": 4,
  "vscode": {
   "interpreter": {
    "hash": "5aa9d9cfaefd52d9eee0e4decc26aff1d3ddaa6ecc236e5a9a4e808ebd9cabf2"
   }
  }
 },
 "nbformat": 4,
 "nbformat_minor": 2
}
