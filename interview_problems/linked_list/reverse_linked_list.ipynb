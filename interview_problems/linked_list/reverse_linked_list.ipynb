{
 "cells": [
  {
   "attachments": {},
   "cell_type": "markdown",
   "metadata": {},
   "source": [
    "# Reverse Linked List (medium)"
   ]
  },
  {
   "attachments": {},
   "cell_type": "markdown",
   "metadata": {},
   "source": [
    "Given the head of a singly linked list and two integers left and right where left <= right, reverse the nodes of the list from position left to position right, and return the reversed list.\n",
    " \n",
    "```python\n",
    "Example 1:\n",
    "```\n",
    "<img src = 'rev2ex2.jpeg' alt = 'rev2' width = 200>\n",
    "\n",
    "```python\n",
    "Input: head = [1,2,3,4,5], left = 2, right = 4\n",
    "Output: [1,4,3,2,5]\n",
    "Example 2:\n",
    "\n",
    "Input: head = [5], left = 1, right = 1\n",
    "Output: [5]"
   ]
  }
 ],
 "metadata": {
  "language_info": {
   "name": "python"
  },
  "orig_nbformat": 4
 },
 "nbformat": 4,
 "nbformat_minor": 2
}
