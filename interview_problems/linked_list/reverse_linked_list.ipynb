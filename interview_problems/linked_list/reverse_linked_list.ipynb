{
 "cells": [
  {
   "attachments": {},
   "cell_type": "markdown",
   "metadata": {},
   "source": [
    "# Reverse Linked List (medium)"
   ]
  },
  {
   "attachments": {},
   "cell_type": "markdown",
   "metadata": {},
   "source": [
    "Given the head of a singly linked list and two integers left and right where left <= right, reverse the nodes of the list from position left to position right, and return the reversed list.\n",
    " \n",
    "```python\n",
    "Example 1:\n",
    "```\n",
    "<img src = 'rev2ex2.jpeg' alt = 'rev2' width = 200>\n",
    "\n",
    "```python\n",
    "Input: head = [1,2,3,4,5], left = 2, right = 4\n",
    "Output: [1,4,3,2,5]\n",
    "Example 2:\n",
    "\n",
    "Input: head = [5], left = 1, right = 1\n",
    "Output: [5]"
   ]
  },
  {
   "cell_type": "code",
   "execution_count": 1,
   "metadata": {},
   "outputs": [],
   "source": [
    "class ListNode:\n",
    "    def __init__(self, val=0, next=None):\n",
    "        self.val = val\n",
    "        self.next = next\n",
    "    \n",
    "def reverseBetween(head, left, right):\n",
    "    # handle the case where left and right are the same\n",
    "    if left == right:\n",
    "        return head\n",
    "    \n",
    "    # create a dummy node to serve as the previous node of the sublist to be reversed\n",
    "    dummy = ListNode(0)\n",
    "    dummy.next = head\n",
    "    prev = dummy\n",
    "\n",
    "    # move prev to the node before the sublist to be reversed\n",
    "    for _ in range(left-1):\n",
    "        prev = prev.next\n",
    "    \n",
    "    # initialize the current and next pointers\n",
    "    curr = prev.next\n",
    "    nxt = curr.next\n",
    "\n",
    "    # reverse the sublist\n",
    "    for _ in range(right - left):\n",
    "        curr.next = nxt.next\n",
    "        nxt.next = prev.next\n",
    "        prev.next = nxt\n",
    "        nxt = curr.next\n",
    "\n",
    "    return dummy.next"
   ]
  },
  {
   "cell_type": "code",
   "execution_count": 2,
   "metadata": {},
   "outputs": [
    {
     "name": "stdout",
     "output_type": "stream",
     "text": [
      "1 4 3 2 5 "
     ]
    }
   ],
   "source": [
    "# Create the original linked list\n",
    "head = ListNode(1)\n",
    "node1 = ListNode(2)\n",
    "node2 = ListNode(3)\n",
    "node3 = ListNode(4)\n",
    "node4 = ListNode(5)\n",
    "head.next = node1\n",
    "node1.next = node2\n",
    "node2.next = node3\n",
    "node3.next = node4\n",
    "\n",
    "# Reverse the nodes from position 2 to position 4\n",
    "reversed_head = reverseBetween(head, 2, 4)\n",
    "\n",
    "# Print the reversed linked list\n",
    "current = reversed_head\n",
    "while current:\n",
    "    print(current.val, end=\" \")\n",
    "    current = current.next\n",
    "# Output: 1 4 3 2 5\n"
   ]
  }
 ],
 "metadata": {
  "kernelspec": {
   "display_name": "venv",
   "language": "python",
   "name": "python3"
  },
  "language_info": {
   "codemirror_mode": {
    "name": "ipython",
    "version": 3
   },
   "file_extension": ".py",
   "mimetype": "text/x-python",
   "name": "python",
   "nbconvert_exporter": "python",
   "pygments_lexer": "ipython3",
   "version": "3.11.2"
  },
  "orig_nbformat": 4,
  "vscode": {
   "interpreter": {
    "hash": "5aa9d9cfaefd52d9eee0e4decc26aff1d3ddaa6ecc236e5a9a4e808ebd9cabf2"
   }
  }
 },
 "nbformat": 4,
 "nbformat_minor": 2
}
