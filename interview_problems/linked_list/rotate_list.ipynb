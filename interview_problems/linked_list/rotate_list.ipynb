{
 "cells": [
  {
   "attachments": {},
   "cell_type": "markdown",
   "metadata": {},
   "source": [
    "# Rotate List (medium)"
   ]
  },
  {
   "attachments": {},
   "cell_type": "markdown",
   "metadata": {},
   "source": [
    "Given the head of a linked list, rotate the list to the right by k places.\n",
    "\n",
    "Example 1:\n",
    "\n",
    "Input: head = [1,2,3,4,5], k = 2\n",
    "Output: [4,5,1,2,3]\n",
    "\n",
    "Example 2:\n",
    "\n",
    "Input: head = [0,1,2], k = 4\n",
    "Output: [2,0,1]"
   ]
  },
  {
   "cell_type": "code",
   "execution_count": 2,
   "metadata": {},
   "outputs": [],
   "source": [
    "class ListNode:\n",
    "    def __init__(self,val=0,next=None):\n",
    "        self.val = val\n",
    "        self.next = next\n",
    "\n",
    "def rotateRight(head,k):\n",
    "    # check if the linked list is empty or only has one node\n",
    "    if not head or not head.next:\n",
    "        return head\n",
    "    \n",
    "    # find the length of the linked list\n",
    "    length = 1\n",
    "    tail = head\n",
    "    while tail.next:\n",
    "        tail = tail.next\n",
    "        length += 1\n",
    "\n",
    "    # calculate the actual rotation amount within the length of the list\n",
    "    k %= length\n",
    "\n",
    "    if k == 0:\n",
    "        return head\n",
    "    \n",
    "    # find the new head and tail of the rotated list\n",
    "    new_tail = head\n",
    "    for _ in range(length - k - 1):\n",
    "        new_tail = new_tail.next\n",
    "    new_head = new_tail.next\n",
    "\n",
    "    # perform the rotation\n",
    "    tail.next = head\n",
    "    new_tail.next = None\n",
    "\n",
    "    return new_head"
   ]
  },
  {
   "cell_type": "code",
   "execution_count": 3,
   "metadata": {},
   "outputs": [
    {
     "name": "stdout",
     "output_type": "stream",
     "text": [
      "4 5 1 2 3 "
     ]
    }
   ],
   "source": [
    "# Create the linked list: 1 -> 2 -> 3 -> 4 -> 5\n",
    "head = ListNode(1)\n",
    "head.next = ListNode(2)\n",
    "head.next.next = ListNode(3)\n",
    "head.next.next.next = ListNode(4)\n",
    "head.next.next.next.next = ListNode(5)\n",
    "\n",
    "# Call the function to rotate the list by 2 places\n",
    "result = rotateRight(head, 2)\n",
    "\n",
    "# Print the rotated list\n",
    "current = result\n",
    "while current:\n",
    "    print(current.val, end=\" \")\n",
    "    current = current.next"
   ]
  }
 ],
 "metadata": {
  "kernelspec": {
   "display_name": "venv",
   "language": "python",
   "name": "python3"
  },
  "language_info": {
   "codemirror_mode": {
    "name": "ipython",
    "version": 3
   },
   "file_extension": ".py",
   "mimetype": "text/x-python",
   "name": "python",
   "nbconvert_exporter": "python",
   "pygments_lexer": "ipython3",
   "version": "3.11.2"
  },
  "orig_nbformat": 4,
  "vscode": {
   "interpreter": {
    "hash": "5aa9d9cfaefd52d9eee0e4decc26aff1d3ddaa6ecc236e5a9a4e808ebd9cabf2"
   }
  }
 },
 "nbformat": 4,
 "nbformat_minor": 2
}
