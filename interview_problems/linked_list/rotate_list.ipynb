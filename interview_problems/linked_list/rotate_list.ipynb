{
 "cells": [
  {
   "attachments": {},
   "cell_type": "markdown",
   "metadata": {},
   "source": [
    "# Rotate List (medium)"
   ]
  },
  {
   "attachments": {},
   "cell_type": "markdown",
   "metadata": {},
   "source": [
    "Given the head of a linked list, rotate the list to the right by k places.\n",
    "\n",
    "Example 1:\n",
    "\n",
    "Input: head = [1,2,3,4,5], k = 2\n",
    "Output: [4,5,1,2,3]\n",
    "\n",
    "Example 2:\n",
    "\n",
    "Input: head = [0,1,2], k = 4\n",
    "Output: [2,0,1]"
   ]
  },
  {
   "cell_type": "code",
   "execution_count": null,
   "metadata": {},
   "outputs": [],
   "source": [
    "class ListNode:\n",
    "    def __init__(self,val=0,next=None):\n",
    "        self.val = val\n",
    "        self.next = next\n",
    "\n",
    "def rotateRight(head,k):\n",
    "    pass"
   ]
  }
 ],
 "metadata": {
  "language_info": {
   "name": "python"
  },
  "orig_nbformat": 4
 },
 "nbformat": 4,
 "nbformat_minor": 2
}
