{
 "cells": [
  {
   "attachments": {},
   "cell_type": "markdown",
   "metadata": {},
   "source": [
    "# Copy List with Random Pointer (medium)"
   ]
  },
  {
   "attachments": {},
   "cell_type": "markdown",
   "metadata": {},
   "source": [
    "A linked list of length n is given such that each node contains an additional random pointer, which could point to any node in the list, or null.\n",
    "\n",
    "Construct a deep copy of the list. The deep copy should consist of exactly n brand new nodes, where each new node has its value set to the value of its corresponding original node. Both the next and random pointer of the new nodes should point to new nodes in the copied list such that the pointers in the original list and copied list represent the same list state. None of the pointers in the new list should point to nodes in the original list.\n",
    "\n",
    "For example, if there are two nodes X and Y in the original list, where X.random --> Y, then for the corresponding two nodes x and y in the copied list, x.random --> y.\n",
    "\n",
    "Return the head of the copied linked list.\n",
    "\n",
    "The linked list is represented in the input/output as a list of n nodes. Each node is represented as a pair of [val, random_index] where:\n",
    "\n",
    "val: an integer representing Node.val\n",
    "random_index: the index of the node (range from 0 to n-1) that the random pointer points to, or null if it does not point to any node.\n",
    "Your code will only be given the head of the original linked list.\n",
    "```python\n",
    "Example 1:\n",
    "```\n",
    "<img src = 'e1.png' alt = 'e1' width = '500'>\n",
    "\n",
    "```python\n",
    "Input: head = [[7,null],[13,0],[11,4],[10,2],[1,0]]\n",
    "Output: [[7,null],[13,0],[11,4],[10,2],[1,0]]\n",
    "\n",
    "Example 2:\n",
    "\n",
    "Input: head = [[1,1],[2,1]]\n",
    "Output: [[1,1],[2,1]]\n",
    "\n",
    "Example 3:\n",
    "\n",
    "Input: head = [[3,null],[3,0],[3,null]]\n",
    "Output: [[3,null],[3,0],[3,null]]"
   ]
  },
  {
   "cell_type": "code",
   "execution_count": 1,
   "metadata": {},
   "outputs": [],
   "source": [
    "class Node:\n",
    "    def __init__(self, val = 0, next = None, random = None):\n",
    "        self.val = val\n",
    "        self.next = next\n",
    "        self.random = random\n",
    "\n",
    "def copyRandomList(head):\n",
    "    if not head:\n",
    "        return None\n",
    "    \n",
    "    # create a hashmap to store the mapping between original and copied notes\n",
    "    hashmap = {}\n",
    "\n",
    "    # create new nodes and set the value and next pointer\n",
    "    current = head\n",
    "    while current:\n",
    "        new_node = Node(current.val)\n",
    "        hashmap[current] = new_node\n",
    "        current = current.next\n",
    "\n",
    "    # set the random pointer of each copied node\n",
    "    current = head\n",
    "    while current:\n",
    "        copied_node = hashmap[current]\n",
    "        if current.next:\n",
    "            copied_node.next = hashmap[current.next]\n",
    "        if current.random:\n",
    "            copied_node.random = hashmap[current.random]\n",
    "        current = current.next\n",
    "    \n",
    "    return hashmap[head]"
   ]
  },
  {
   "cell_type": "code",
   "execution_count": 2,
   "metadata": {},
   "outputs": [
    {
     "name": "stdout",
     "output_type": "stream",
     "text": [
      "[7,None] [13,7] [11,1] [10,11] [1,7] "
     ]
    }
   ],
   "source": [
    "# Create the original linked list\n",
    "head = Node(7)\n",
    "node1 = Node(13)\n",
    "node2 = Node(11)\n",
    "node3 = Node(10)\n",
    "node4 = Node(1)\n",
    "head.next = node1\n",
    "node1.next = node2\n",
    "node2.next = node3\n",
    "node3.next = node4\n",
    "head.random = None\n",
    "node1.random = head\n",
    "node2.random = node4\n",
    "node3.random = node2\n",
    "node4.random = head\n",
    "\n",
    "# Deep copy the linked list\n",
    "copied_head = copyRandomList(head)\n",
    "\n",
    "# Print the copied linked list\n",
    "current = copied_head\n",
    "while current:\n",
    "    print(f\"[{current.val},{current.random.val if current.random else None}]\", end=\" \")\n",
    "    current = current.next"
   ]
  }
 ],
 "metadata": {
  "kernelspec": {
   "display_name": "venv",
   "language": "python",
   "name": "python3"
  },
  "language_info": {
   "codemirror_mode": {
    "name": "ipython",
    "version": 3
   },
   "file_extension": ".py",
   "mimetype": "text/x-python",
   "name": "python",
   "nbconvert_exporter": "python",
   "pygments_lexer": "ipython3",
   "version": "3.11.2"
  },
  "orig_nbformat": 4,
  "vscode": {
   "interpreter": {
    "hash": "5aa9d9cfaefd52d9eee0e4decc26aff1d3ddaa6ecc236e5a9a4e808ebd9cabf2"
   }
  }
 },
 "nbformat": 4,
 "nbformat_minor": 2
}
