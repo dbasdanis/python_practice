{
 "cells": [
  {
   "attachments": {},
   "cell_type": "markdown",
   "metadata": {},
   "source": [
    "# Linked List Cycle (easy) "
   ]
  },
  {
   "attachments": {},
   "cell_type": "markdown",
   "metadata": {},
   "source": [
    "Given head, the head of a linked list, determine if the linked list has a cycle in it.\n",
    "\n",
    "There is a cycle in a linked list if there is some node in the list that can be reached again by continuously following the next pointer. Internally, pos is used to denote the index of the node that tail's next pointer is connected to. Note that pos is not passed as a parameter.\n",
    "\n",
    "Return true if there is a cycle in the linked list. Otherwise, return false.\n",
    "\n",
    "Example 1:\n",
    "\n",
    "<img src = \"circularlinkedlist.png\" alt = 'list' width = 300 height = 100>\n",
    "\n",
    "```python\n",
    "Input: head = [3,2,0,-4], pos = 1\n",
    "Output: True\n",
    "#Explanation: There is a cycle in the linked list, where the tail connects to the 1st node (0-indexed).\n",
    "\n",
    "Example 2:\n",
    "\n",
    "Input: head = [1,2], pos = 0\n",
    "Output: True\n",
    "#Explanation: There is a cycle in the linked list, where the tail connects to the 0th node.\n",
    "\n",
    "Example 3:\n",
    "\n",
    "Input: head = [1], pos = -1\n",
    "Output: False\n",
    "#Explanation: There is no cycle in the linked list."
   ]
  }
 ],
 "metadata": {
  "language_info": {
   "name": "python"
  },
  "orig_nbformat": 4
 },
 "nbformat": 4,
 "nbformat_minor": 2
}
