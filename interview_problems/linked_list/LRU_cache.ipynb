{
 "cells": [
  {
   "attachments": {},
   "cell_type": "markdown",
   "metadata": {},
   "source": [
    "# LRU Cache (medium)"
   ]
  },
  {
   "attachments": {},
   "cell_type": "markdown",
   "metadata": {},
   "source": [
    "Design a data structure that follows the constraints of a Least Recently Used (LRU) cache.\n",
    "\n",
    "Implement the LRUCache class:\n",
    "\n",
    "LRUCache(int capacity) Initialize the LRU cache with positive size capacity.\n",
    "int get(int key) Return the value of the key if the key exists, otherwise return -1.\n",
    "void put(int key, int value) Update the value of the key if the key exists. Otherwise, add the key-value pair to the cache. If the number of keys exceeds the capacity from this operation, evict the least recently used key.\n",
    "The functions get and put must each run in O(1) average time complexity.\n",
    "\n",
    "Example 1:\n",
    "\n",
    "Input\n",
    "[\"LRUCache\", \"put\", \"put\", \"get\", \"put\", \"get\", \"put\", \"get\", \"get\", \"get\"]\n",
    "[[2], [1, 1], [2, 2], [1], [3, 3], [2], [4, 4], [1], [3], [4]]\n",
    "Output\n",
    "[null, null, null, 1, null, -1, null, -1, 3, 4]\n",
    "\n",
    "Explanation\n",
    "LRUCache lRUCache = new LRUCache(2);\n",
    "lRUCache.put(1, 1); // cache is {1=1}\n",
    "lRUCache.put(2, 2); // cache is {1=1, 2=2}\n",
    "lRUCache.get(1);    // return 1\n",
    "lRUCache.put(3, 3); // LRU key was 2, evicts key 2, cache is {1=1, 3=3}\n",
    "lRUCache.get(2);    // returns -1 (not found)\n",
    "lRUCache.put(4, 4); // LRU key was 1, evicts key 1, cache is {4=4, 3=3}\n",
    "lRUCache.get(1);    // return -1 (not found)\n",
    "lRUCache.get(3);    // return 3\n",
    "lRUCache.get(4);    // return 4"
   ]
  }
 ],
 "metadata": {
  "language_info": {
   "name": "python"
  },
  "orig_nbformat": 4
 },
 "nbformat": 4,
 "nbformat_minor": 2
}
