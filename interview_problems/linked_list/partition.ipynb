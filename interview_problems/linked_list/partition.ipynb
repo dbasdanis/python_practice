{
 "cells": [
  {
   "attachments": {},
   "cell_type": "markdown",
   "metadata": {},
   "source": [
    "# Partition List (medium)"
   ]
  },
  {
   "attachments": {},
   "cell_type": "markdown",
   "metadata": {},
   "source": [
    "Given the head of a linked list and a value x, partition it such that all nodes less than x come before nodes greater than or equal to x.\n",
    "\n",
    "You should preserve the original relative order of the nodes in each of the two partitions.\n",
    "\n",
    "Example 1:\n",
    "\n",
    "<img src = 'partition.jpeg' alt = 'partition' width = 300>\n",
    "\n",
    "Input: head = [1,4,3,2,5,2], x = 3\n",
    "Output: [1,2,2,4,3,5]\n",
    "\n",
    "Example 2:\n",
    "\n",
    "Input: head = [2,1], x = 2\n",
    "Output: [1,2]"
   ]
  },
  {
   "cell_type": "code",
   "execution_count": 1,
   "metadata": {},
   "outputs": [],
   "source": [
    "class ListNode:\n",
    "    def __init__(self,val=0,next=None):\n",
    "        self.val = val\n",
    "        self.next = next\n",
    "\n",
    "def partition(head, x):\n",
    "    # create two dummy nodes to hold the smaller and greater nodes respectively\n",
    "    dummy_smaller = ListNode(0)\n",
    "    dummy_greater = ListNode(0)\n",
    "\n",
    "    # create two pointers to traverse the original list and the new partitions\n",
    "    current = head\n",
    "    smaller_tail = dummy_smaller\n",
    "    greater_tail = dummy_greater\n",
    "\n",
    "    # traverse the original list\n",
    "    while current:\n",
    "        if current.val < x:\n",
    "            # add the node to the smaller partition\n",
    "            smaller_tail.next = current\n",
    "            smaller_tail = smaller_tail.next\n",
    "        else:\n",
    "            # add the node to the greater partition\n",
    "            greater_tail.next = current\n",
    "            greater_tail = greater_tail.next\n",
    "\n",
    "        # move to the next node in the original list\n",
    "        current = current.next\n",
    "\n",
    "    # connect the smaller and the greater partitions\n",
    "    smaller_tail.next = dummy_greater.next\n",
    "    greater_tail.next = None\n",
    "\n",
    "    # return the head of the smaller partition\n",
    "    return dummy_smaller.next\n"
   ]
  },
  {
   "cell_type": "code",
   "execution_count": 2,
   "metadata": {},
   "outputs": [
    {
     "name": "stdout",
     "output_type": "stream",
     "text": [
      "1 2 2 4 3 5 "
     ]
    }
   ],
   "source": [
    "# Create the linked list: 1 -> 4 -> 3 -> 2 -> 5 -> 2\n",
    "head = ListNode(1)\n",
    "head.next = ListNode(4)\n",
    "head.next.next = ListNode(3)\n",
    "head.next.next.next = ListNode(2)\n",
    "head.next.next.next.next = ListNode(5)\n",
    "head.next.next.next.next.next = ListNode(2)\n",
    "\n",
    "# Call the function to partition the list with x = 3\n",
    "result = partition(head, 3)\n",
    "\n",
    "# Print the partitioned list\n",
    "current = result\n",
    "while current:\n",
    "    print(current.val, end=\" \")\n",
    "    current = current.next"
   ]
  }
 ],
 "metadata": {
  "kernelspec": {
   "display_name": "venv",
   "language": "python",
   "name": "python3"
  },
  "language_info": {
   "codemirror_mode": {
    "name": "ipython",
    "version": 3
   },
   "file_extension": ".py",
   "mimetype": "text/x-python",
   "name": "python",
   "nbconvert_exporter": "python",
   "pygments_lexer": "ipython3",
   "version": "3.11.2"
  },
  "orig_nbformat": 4,
  "vscode": {
   "interpreter": {
    "hash": "5aa9d9cfaefd52d9eee0e4decc26aff1d3ddaa6ecc236e5a9a4e808ebd9cabf2"
   }
  }
 },
 "nbformat": 4,
 "nbformat_minor": 2
}
